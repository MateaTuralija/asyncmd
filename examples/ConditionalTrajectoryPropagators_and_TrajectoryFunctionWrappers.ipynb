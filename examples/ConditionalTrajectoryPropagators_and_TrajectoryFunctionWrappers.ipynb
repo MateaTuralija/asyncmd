{
 "cells": [
  {
   "cell_type": "markdown",
   "metadata": {},
   "source": [
    "# Conditional trajectory propagation and `TrajectoryFunctionWrappers`\n",
    "This notebook shows how to propagte trajectories until certain conditions are met, e.g. a state is reached. It uses the `GmxEngine` to produce the trajectories and it will therefore only work if the gromacs executables are available (e.g. in your `$PATH` variable). It assumes some familiarity with the `GmxEngine` class, it is therfore recommended to finish the `gromacs/GmxEngine.ipynb` notebook first.\n",
    "\n",
    "The two main classes you will use together:\n",
    " - `asyncmd.trajectory.PyTrajectoryFunctionWrapper`, a wrapper around any python function which can be applied to `asyncmd.Trajectory` objects. The wrapped function is turned into an asyncronously callable subprocess and the results are cached for each trajectory such that reapplying a function is cheap. The `asyncmd.trajectory.SlurmTrajectoryFunctionWrapper` takes an executable instead of a python function and submits each calculation to the queueing system via SLURM.\n",
    " - The `asyncmd.trajectory.ConditionalTrajectoryPropagator` can be used to easily propagate a trajectory (possibly in chunks of walltime) until any of the given conditions are fullfilled, i.e. it is one of the basic building blocks of a committor simulation and can also be reused in many transition path sampling algorithms"
   ]
  },
  {
   "cell_type": "markdown",
   "metadata": {},
   "source": [
    "### Imports and some basic checks that everything is available"
   ]
  },
  {
   "cell_type": "code",
   "execution_count": 1,
   "metadata": {},
   "outputs": [],
   "source": [
    "%%bash\n",
    "# if using the module system to make gromacs and friends available:\n",
    "# check that they are loaded!\n",
    "#module list"
   ]
  },
  {
   "cell_type": "code",
   "execution_count": 2,
   "metadata": {},
   "outputs": [
    {
     "name": "stdout",
     "output_type": "stream",
     "text": [
      "/usr/local/gromacs-2020.4/bin/gmx\n"
     ]
    }
   ],
   "source": [
    "%%bash\n",
    "# unix only, check that gmx is available\n",
    "which gmx"
   ]
  },
  {
   "cell_type": "code",
   "execution_count": 3,
   "metadata": {},
   "outputs": [],
   "source": [
    "%matplotlib inline"
   ]
  },
  {
   "cell_type": "code",
   "execution_count": 4,
   "metadata": {},
   "outputs": [],
   "source": [
    "import os\n",
    "import asyncio\n",
    "import matplotlib.pyplot as plt\n",
    "import numpy as np\n",
    "import MDAnalysis as mda"
   ]
  },
  {
   "cell_type": "code",
   "execution_count": 5,
   "metadata": {},
   "outputs": [
    {
     "name": "stderr",
     "output_type": "stream",
     "text": [
      "Could not initialize SLURM cluster handling. If you are sure SLURM (sinfo/sacct/etc) is available try calling `asyncmd.config.set_slurm_settings()` with the appropriate arguments.\n"
     ]
    }
   ],
   "source": [
    "import asyncmd\n",
    "from asyncmd import gromacs as asyncgmx"
   ]
  },
  {
   "cell_type": "markdown",
   "metadata": {},
   "source": [
    "### Setup working directory and the number of simulations to run in parallel"
   ]
  },
  {
   "cell_type": "code",
   "execution_count": 6,
   "metadata": {},
   "outputs": [],
   "source": [
    "n_engines = 3\n",
    "\n",
    "scratch_dir = \"/home/think/scratch/asyncmd/\"\n",
    "\n",
    "wdirs = [os.path.join(scratch_dir, f\"propagator_wdir{i}\") for i in range(n_engines)]\n",
    "\n",
    "for d in wdirs:\n",
    "    if not os.path.isdir(d):\n",
    "        os.mkdir(d)"
   ]
  },
  {
   "cell_type": "markdown",
   "metadata": {},
   "source": [
    "## `asyncmd.trajectory.PyTrajectoryFunctionWrapper`\n",
    "The `PyTrajectoryFunctionWrapper` can wrap any function that works on `asyncmd.Trajectory` objects. It will remember a hash of the function and its call arguments and cache/store the results of the computation for quick later access. Additionally it turns a syncronous python function into an asyncronously callable (awaitable) by applying the function in a seperate subprocess to the trajectory. This enables the use of multiple cores by trivial parallelization, i.e. applying the same function to multiple differnt trajectories at once.\n",
    "\n",
    "We will use the `PyTrajectoryFunctionWrapper` here to wrap the two state functions for capped alanine dipeptide. The content of the file `state_funcs_mda.py` is printed below. Please have a look at the state functions we import to make sure you understand what they return. You will need to be able to write state functions providing the state for every frame of a trajectory (i.e. the stoping conditions) for your molecular system of interest yourself to use `asyncmd` to its full potential.\n",
    "\n",
    "In addition to the state functions also contains some code for parsing command line arguments, which you can ignore for now. It contains this code because it can/will also be used as executable in the `SlurmTrajectoryFunctionWrapper`."
   ]
  },
  {
   "cell_type": "code",
   "execution_count": 7,
   "metadata": {},
   "outputs": [
    {
     "data": {
      "text/html": [
       "<style type=\"text/css\">pre { line-height: 125%; }\n",
       "td.linenos .normal { color: inherit; background-color: transparent; padding-left: 5px; padding-right: 5px; }\n",
       "span.linenos { color: inherit; background-color: transparent; padding-left: 5px; padding-right: 5px; }\n",
       "td.linenos .special { color: #000000; background-color: #ffffc0; padding-left: 5px; padding-right: 5px; }\n",
       "span.linenos.special { color: #000000; background-color: #ffffc0; padding-left: 5px; padding-right: 5px; }\n",
       ".highlight .hll { background-color: #ffffcc }\n",
       ".highlight { background: #f8f8f8; }\n",
       ".highlight .c { color: #3D7B7B; font-style: italic } /* Comment */\n",
       ".highlight .err { border: 1px solid #FF0000 } /* Error */\n",
       ".highlight .k { color: #008000; font-weight: bold } /* Keyword */\n",
       ".highlight .o { color: #666666 } /* Operator */\n",
       ".highlight .ch { color: #3D7B7B; font-style: italic } /* Comment.Hashbang */\n",
       ".highlight .cm { color: #3D7B7B; font-style: italic } /* Comment.Multiline */\n",
       ".highlight .cp { color: #9C6500 } /* Comment.Preproc */\n",
       ".highlight .cpf { color: #3D7B7B; font-style: italic } /* Comment.PreprocFile */\n",
       ".highlight .c1 { color: #3D7B7B; font-style: italic } /* Comment.Single */\n",
       ".highlight .cs { color: #3D7B7B; font-style: italic } /* Comment.Special */\n",
       ".highlight .gd { color: #A00000 } /* Generic.Deleted */\n",
       ".highlight .ge { font-style: italic } /* Generic.Emph */\n",
       ".highlight .gr { color: #E40000 } /* Generic.Error */\n",
       ".highlight .gh { color: #000080; font-weight: bold } /* Generic.Heading */\n",
       ".highlight .gi { color: #008400 } /* Generic.Inserted */\n",
       ".highlight .go { color: #717171 } /* Generic.Output */\n",
       ".highlight .gp { color: #000080; font-weight: bold } /* Generic.Prompt */\n",
       ".highlight .gs { font-weight: bold } /* Generic.Strong */\n",
       ".highlight .gu { color: #800080; font-weight: bold } /* Generic.Subheading */\n",
       ".highlight .gt { color: #0044DD } /* Generic.Traceback */\n",
       ".highlight .kc { color: #008000; font-weight: bold } /* Keyword.Constant */\n",
       ".highlight .kd { color: #008000; font-weight: bold } /* Keyword.Declaration */\n",
       ".highlight .kn { color: #008000; font-weight: bold } /* Keyword.Namespace */\n",
       ".highlight .kp { color: #008000 } /* Keyword.Pseudo */\n",
       ".highlight .kr { color: #008000; font-weight: bold } /* Keyword.Reserved */\n",
       ".highlight .kt { color: #B00040 } /* Keyword.Type */\n",
       ".highlight .m { color: #666666 } /* Literal.Number */\n",
       ".highlight .s { color: #BA2121 } /* Literal.String */\n",
       ".highlight .na { color: #687822 } /* Name.Attribute */\n",
       ".highlight .nb { color: #008000 } /* Name.Builtin */\n",
       ".highlight .nc { color: #0000FF; font-weight: bold } /* Name.Class */\n",
       ".highlight .no { color: #880000 } /* Name.Constant */\n",
       ".highlight .nd { color: #AA22FF } /* Name.Decorator */\n",
       ".highlight .ni { color: #717171; font-weight: bold } /* Name.Entity */\n",
       ".highlight .ne { color: #CB3F38; font-weight: bold } /* Name.Exception */\n",
       ".highlight .nf { color: #0000FF } /* Name.Function */\n",
       ".highlight .nl { color: #767600 } /* Name.Label */\n",
       ".highlight .nn { color: #0000FF; font-weight: bold } /* Name.Namespace */\n",
       ".highlight .nt { color: #008000; font-weight: bold } /* Name.Tag */\n",
       ".highlight .nv { color: #19177C } /* Name.Variable */\n",
       ".highlight .ow { color: #AA22FF; font-weight: bold } /* Operator.Word */\n",
       ".highlight .w { color: #bbbbbb } /* Text.Whitespace */\n",
       ".highlight .mb { color: #666666 } /* Literal.Number.Bin */\n",
       ".highlight .mf { color: #666666 } /* Literal.Number.Float */\n",
       ".highlight .mh { color: #666666 } /* Literal.Number.Hex */\n",
       ".highlight .mi { color: #666666 } /* Literal.Number.Integer */\n",
       ".highlight .mo { color: #666666 } /* Literal.Number.Oct */\n",
       ".highlight .sa { color: #BA2121 } /* Literal.String.Affix */\n",
       ".highlight .sb { color: #BA2121 } /* Literal.String.Backtick */\n",
       ".highlight .sc { color: #BA2121 } /* Literal.String.Char */\n",
       ".highlight .dl { color: #BA2121 } /* Literal.String.Delimiter */\n",
       ".highlight .sd { color: #BA2121; font-style: italic } /* Literal.String.Doc */\n",
       ".highlight .s2 { color: #BA2121 } /* Literal.String.Double */\n",
       ".highlight .se { color: #AA5D1F; font-weight: bold } /* Literal.String.Escape */\n",
       ".highlight .sh { color: #BA2121 } /* Literal.String.Heredoc */\n",
       ".highlight .si { color: #A45A77; font-weight: bold } /* Literal.String.Interpol */\n",
       ".highlight .sx { color: #008000 } /* Literal.String.Other */\n",
       ".highlight .sr { color: #A45A77 } /* Literal.String.Regex */\n",
       ".highlight .s1 { color: #BA2121 } /* Literal.String.Single */\n",
       ".highlight .ss { color: #19177C } /* Literal.String.Symbol */\n",
       ".highlight .bp { color: #008000 } /* Name.Builtin.Pseudo */\n",
       ".highlight .fm { color: #0000FF } /* Name.Function.Magic */\n",
       ".highlight .vc { color: #19177C } /* Name.Variable.Class */\n",
       ".highlight .vg { color: #19177C } /* Name.Variable.Global */\n",
       ".highlight .vi { color: #19177C } /* Name.Variable.Instance */\n",
       ".highlight .vm { color: #19177C } /* Name.Variable.Magic */\n",
       ".highlight .il { color: #666666 } /* Literal.Number.Integer.Long */</style><div class=\"highlight\"><pre><span></span><span class=\"ch\">#!/usr/bin/env python3</span>\n",
       "<span class=\"sd\">&quot;&quot;&quot;</span>\n",
       "<span class=\"sd\">State functions for alanine dipetide.</span>\n",
       "\n",
       "<span class=\"sd\">Needs to be separate module/import to be able to use multiprocessing from the notebooks.</span>\n",
       "<span class=\"sd\">&quot;&quot;&quot;</span>\n",
       "<span class=\"kn\">import</span> <span class=\"nn\">argparse</span>\n",
       "<span class=\"kn\">import</span> <span class=\"nn\">numpy</span> <span class=\"k\">as</span> <span class=\"nn\">np</span>\n",
       "<span class=\"kn\">import</span> <span class=\"nn\">MDAnalysis</span> <span class=\"k\">as</span> <span class=\"nn\">mda</span>\n",
       "<span class=\"kn\">from</span> <span class=\"nn\">MDAnalysis.lib.distances</span> <span class=\"kn\">import</span> <span class=\"n\">calc_bonds</span><span class=\"p\">,</span> <span class=\"n\">calc_angles</span><span class=\"p\">,</span> <span class=\"n\">calc_dihedrals</span>\n",
       "\n",
       "\n",
       "<span class=\"k\">def</span> <span class=\"nf\">alpha_R</span><span class=\"p\">(</span><span class=\"n\">traj</span><span class=\"p\">,</span> <span class=\"n\">skip</span><span class=\"o\">=</span><span class=\"mi\">1</span><span class=\"p\">):</span>\n",
       "    <span class=\"c1\"># NOTE: use refresh_offsets=True such that we do not run into any trouble when</span>\n",
       "    <span class=\"c1\">#       opening the same traj at the same time from two different processes/universes</span>\n",
       "    <span class=\"c1\">#       to avoid reading a possibly corrupted/in the process of beeing created offsets</span>\n",
       "    <span class=\"c1\">#       file we just rebuild all offsets</span>\n",
       "    <span class=\"n\">u</span> <span class=\"o\">=</span> <span class=\"n\">mda</span><span class=\"o\">.</span><span class=\"n\">Universe</span><span class=\"p\">(</span><span class=\"n\">traj</span><span class=\"o\">.</span><span class=\"n\">structure_file</span><span class=\"p\">,</span> <span class=\"n\">traj</span><span class=\"o\">.</span><span class=\"n\">trajectory_file</span><span class=\"p\">,</span>\n",
       "                     <span class=\"n\">refresh_offsets</span><span class=\"o\">=</span><span class=\"kc\">True</span><span class=\"p\">,</span> <span class=\"n\">tpr_resid_from_one</span><span class=\"o\">=</span><span class=\"kc\">True</span><span class=\"p\">)</span>\n",
       "    <span class=\"n\">psi_ag</span> <span class=\"o\">=</span> <span class=\"n\">u</span><span class=\"o\">.</span><span class=\"n\">select_atoms</span><span class=\"p\">(</span><span class=\"s2\">&quot;resname ALA and name N&quot;</span><span class=\"p\">)</span>\n",
       "    <span class=\"n\">psi_ag</span> <span class=\"o\">+=</span> <span class=\"n\">u</span><span class=\"o\">.</span><span class=\"n\">select_atoms</span><span class=\"p\">(</span><span class=\"s2\">&quot;resname ALA and name CA&quot;</span><span class=\"p\">)</span>\n",
       "    <span class=\"n\">psi_ag</span> <span class=\"o\">+=</span> <span class=\"n\">u</span><span class=\"o\">.</span><span class=\"n\">select_atoms</span><span class=\"p\">(</span><span class=\"s2\">&quot;resname ALA and name C&quot;</span><span class=\"p\">)</span>\n",
       "    <span class=\"n\">psi_ag</span> <span class=\"o\">+=</span> <span class=\"n\">u</span><span class=\"o\">.</span><span class=\"n\">select_atoms</span><span class=\"p\">(</span><span class=\"s2\">&quot;resname NME and name N&quot;</span><span class=\"p\">)</span>\n",
       "    <span class=\"n\">phi_ag</span> <span class=\"o\">=</span> <span class=\"n\">u</span><span class=\"o\">.</span><span class=\"n\">select_atoms</span><span class=\"p\">(</span><span class=\"s2\">&quot;resname ACE and name C&quot;</span><span class=\"p\">)</span>\n",
       "    <span class=\"n\">phi_ag</span> <span class=\"o\">+=</span> <span class=\"n\">u</span><span class=\"o\">.</span><span class=\"n\">select_atoms</span><span class=\"p\">(</span><span class=\"s2\">&quot;resname ALA and name N&quot;</span><span class=\"p\">)</span>\n",
       "    <span class=\"n\">phi_ag</span> <span class=\"o\">+=</span> <span class=\"n\">u</span><span class=\"o\">.</span><span class=\"n\">select_atoms</span><span class=\"p\">(</span><span class=\"s2\">&quot;resname ALA and name CA&quot;</span><span class=\"p\">)</span>\n",
       "    <span class=\"n\">phi_ag</span> <span class=\"o\">+=</span> <span class=\"n\">u</span><span class=\"o\">.</span><span class=\"n\">select_atoms</span><span class=\"p\">(</span><span class=\"s2\">&quot;resname ALA and name C&quot;</span><span class=\"p\">)</span>\n",
       "    <span class=\"c1\"># empty arrays to fill</span>\n",
       "    <span class=\"n\">state</span> <span class=\"o\">=</span> <span class=\"n\">np</span><span class=\"o\">.</span><span class=\"n\">full</span><span class=\"p\">((</span><span class=\"nb\">len</span><span class=\"p\">(</span><span class=\"n\">u</span><span class=\"o\">.</span><span class=\"n\">trajectory</span><span class=\"p\">[::</span><span class=\"n\">skip</span><span class=\"p\">]),),</span> <span class=\"kc\">False</span><span class=\"p\">,</span> <span class=\"n\">dtype</span><span class=\"o\">=</span><span class=\"nb\">bool</span><span class=\"p\">)</span>\n",
       "    <span class=\"n\">phi</span> <span class=\"o\">=</span> <span class=\"n\">np</span><span class=\"o\">.</span><span class=\"n\">empty</span><span class=\"p\">((</span><span class=\"nb\">len</span><span class=\"p\">(</span><span class=\"n\">u</span><span class=\"o\">.</span><span class=\"n\">trajectory</span><span class=\"p\">[::</span><span class=\"n\">skip</span><span class=\"p\">]),),</span> <span class=\"n\">dtype</span><span class=\"o\">=</span><span class=\"n\">np</span><span class=\"o\">.</span><span class=\"n\">float64</span><span class=\"p\">)</span>\n",
       "    <span class=\"n\">psi</span> <span class=\"o\">=</span> <span class=\"n\">np</span><span class=\"o\">.</span><span class=\"n\">empty</span><span class=\"p\">((</span><span class=\"nb\">len</span><span class=\"p\">(</span><span class=\"n\">u</span><span class=\"o\">.</span><span class=\"n\">trajectory</span><span class=\"p\">[::</span><span class=\"n\">skip</span><span class=\"p\">]),),</span> <span class=\"n\">dtype</span><span class=\"o\">=</span><span class=\"n\">np</span><span class=\"o\">.</span><span class=\"n\">float64</span><span class=\"p\">)</span>\n",
       "    <span class=\"k\">for</span> <span class=\"n\">f</span><span class=\"p\">,</span> <span class=\"n\">ts</span> <span class=\"ow\">in</span> <span class=\"nb\">enumerate</span><span class=\"p\">(</span><span class=\"n\">u</span><span class=\"o\">.</span><span class=\"n\">trajectory</span><span class=\"p\">[::</span><span class=\"n\">skip</span><span class=\"p\">]):</span>\n",
       "        <span class=\"n\">phi</span><span class=\"p\">[</span><span class=\"n\">f</span><span class=\"p\">]</span> <span class=\"o\">=</span> <span class=\"n\">calc_dihedrals</span><span class=\"p\">(</span><span class=\"o\">*</span><span class=\"p\">(</span><span class=\"n\">at</span><span class=\"o\">.</span><span class=\"n\">position</span> <span class=\"k\">for</span> <span class=\"n\">at</span> <span class=\"ow\">in</span> <span class=\"n\">phi_ag</span><span class=\"p\">),</span> <span class=\"n\">box</span><span class=\"o\">=</span><span class=\"n\">ts</span><span class=\"o\">.</span><span class=\"n\">dimensions</span><span class=\"p\">)</span>\n",
       "        <span class=\"n\">psi</span><span class=\"p\">[</span><span class=\"n\">f</span><span class=\"p\">]</span> <span class=\"o\">=</span> <span class=\"n\">calc_dihedrals</span><span class=\"p\">(</span><span class=\"o\">*</span><span class=\"p\">(</span><span class=\"n\">at</span><span class=\"o\">.</span><span class=\"n\">position</span> <span class=\"k\">for</span> <span class=\"n\">at</span> <span class=\"ow\">in</span> <span class=\"n\">psi_ag</span><span class=\"p\">),</span> <span class=\"n\">box</span><span class=\"o\">=</span><span class=\"n\">ts</span><span class=\"o\">.</span><span class=\"n\">dimensions</span><span class=\"p\">)</span>\n",
       "    <span class=\"c1\"># phi: -pi -&gt; 0</span>\n",
       "    <span class=\"c1\"># psi: &gt; -50 but smaller 30 degree</span>\n",
       "    <span class=\"n\">deg</span> <span class=\"o\">=</span> <span class=\"mi\">180</span><span class=\"o\">/</span><span class=\"n\">np</span><span class=\"o\">.</span><span class=\"n\">pi</span>\n",
       "    <span class=\"n\">state</span><span class=\"p\">[(</span><span class=\"n\">phi</span> <span class=\"o\">&lt;=</span> <span class=\"mi\">0</span><span class=\"p\">)</span> <span class=\"o\">&amp;</span> <span class=\"p\">(</span><span class=\"o\">-</span><span class=\"mi\">50</span><span class=\"o\">/</span><span class=\"n\">deg</span> <span class=\"o\">&lt;=</span> <span class=\"n\">psi</span><span class=\"p\">)</span> <span class=\"o\">&amp;</span> <span class=\"p\">(</span><span class=\"n\">psi</span> <span class=\"o\">&lt;=</span> <span class=\"mi\">30</span><span class=\"o\">/</span><span class=\"n\">deg</span><span class=\"p\">)]</span> <span class=\"o\">=</span> <span class=\"kc\">True</span>\n",
       "    <span class=\"k\">return</span> <span class=\"n\">state</span>\n",
       "\n",
       "\n",
       "<span class=\"k\">def</span> <span class=\"nf\">C7_eq</span><span class=\"p\">(</span><span class=\"n\">traj</span><span class=\"p\">,</span> <span class=\"n\">skip</span><span class=\"o\">=</span><span class=\"mi\">1</span><span class=\"p\">):</span>\n",
       "    <span class=\"n\">u</span> <span class=\"o\">=</span> <span class=\"n\">mda</span><span class=\"o\">.</span><span class=\"n\">Universe</span><span class=\"p\">(</span><span class=\"n\">traj</span><span class=\"o\">.</span><span class=\"n\">structure_file</span><span class=\"p\">,</span> <span class=\"n\">traj</span><span class=\"o\">.</span><span class=\"n\">trajectory_file</span><span class=\"p\">,</span>\n",
       "                     <span class=\"n\">refresh_offsets</span><span class=\"o\">=</span><span class=\"kc\">True</span><span class=\"p\">,</span> <span class=\"n\">tpr_resid_from_one</span><span class=\"o\">=</span><span class=\"kc\">True</span><span class=\"p\">)</span>\n",
       "    <span class=\"n\">psi_ag</span> <span class=\"o\">=</span> <span class=\"n\">u</span><span class=\"o\">.</span><span class=\"n\">select_atoms</span><span class=\"p\">(</span><span class=\"s2\">&quot;resname ALA and name N&quot;</span><span class=\"p\">)</span>\n",
       "    <span class=\"n\">psi_ag</span> <span class=\"o\">+=</span> <span class=\"n\">u</span><span class=\"o\">.</span><span class=\"n\">select_atoms</span><span class=\"p\">(</span><span class=\"s2\">&quot;resname ALA and name CA&quot;</span><span class=\"p\">)</span>\n",
       "    <span class=\"n\">psi_ag</span> <span class=\"o\">+=</span> <span class=\"n\">u</span><span class=\"o\">.</span><span class=\"n\">select_atoms</span><span class=\"p\">(</span><span class=\"s2\">&quot;resname ALA and name C&quot;</span><span class=\"p\">)</span>\n",
       "    <span class=\"n\">psi_ag</span> <span class=\"o\">+=</span> <span class=\"n\">u</span><span class=\"o\">.</span><span class=\"n\">select_atoms</span><span class=\"p\">(</span><span class=\"s2\">&quot;resname NME and name N&quot;</span><span class=\"p\">)</span>\n",
       "    <span class=\"n\">phi_ag</span> <span class=\"o\">=</span> <span class=\"n\">u</span><span class=\"o\">.</span><span class=\"n\">select_atoms</span><span class=\"p\">(</span><span class=\"s2\">&quot;resname ACE and name C&quot;</span><span class=\"p\">)</span>\n",
       "    <span class=\"n\">phi_ag</span> <span class=\"o\">+=</span> <span class=\"n\">u</span><span class=\"o\">.</span><span class=\"n\">select_atoms</span><span class=\"p\">(</span><span class=\"s2\">&quot;resname ALA and name N&quot;</span><span class=\"p\">)</span>\n",
       "    <span class=\"n\">phi_ag</span> <span class=\"o\">+=</span> <span class=\"n\">u</span><span class=\"o\">.</span><span class=\"n\">select_atoms</span><span class=\"p\">(</span><span class=\"s2\">&quot;resname ALA and name CA&quot;</span><span class=\"p\">)</span>\n",
       "    <span class=\"n\">phi_ag</span> <span class=\"o\">+=</span> <span class=\"n\">u</span><span class=\"o\">.</span><span class=\"n\">select_atoms</span><span class=\"p\">(</span><span class=\"s2\">&quot;resname ALA and name C&quot;</span><span class=\"p\">)</span>\n",
       "    <span class=\"c1\"># empty arrays to fill</span>\n",
       "    <span class=\"n\">state</span> <span class=\"o\">=</span> <span class=\"n\">np</span><span class=\"o\">.</span><span class=\"n\">full</span><span class=\"p\">((</span><span class=\"nb\">len</span><span class=\"p\">(</span><span class=\"n\">u</span><span class=\"o\">.</span><span class=\"n\">trajectory</span><span class=\"p\">[::</span><span class=\"n\">skip</span><span class=\"p\">]),),</span> <span class=\"kc\">False</span><span class=\"p\">,</span> <span class=\"n\">dtype</span><span class=\"o\">=</span><span class=\"nb\">bool</span><span class=\"p\">)</span>\n",
       "    <span class=\"n\">phi</span> <span class=\"o\">=</span> <span class=\"n\">np</span><span class=\"o\">.</span><span class=\"n\">empty</span><span class=\"p\">((</span><span class=\"nb\">len</span><span class=\"p\">(</span><span class=\"n\">u</span><span class=\"o\">.</span><span class=\"n\">trajectory</span><span class=\"p\">[::</span><span class=\"n\">skip</span><span class=\"p\">]),),</span> <span class=\"n\">dtype</span><span class=\"o\">=</span><span class=\"n\">np</span><span class=\"o\">.</span><span class=\"n\">float64</span><span class=\"p\">)</span>\n",
       "    <span class=\"n\">psi</span> <span class=\"o\">=</span> <span class=\"n\">np</span><span class=\"o\">.</span><span class=\"n\">empty</span><span class=\"p\">((</span><span class=\"nb\">len</span><span class=\"p\">(</span><span class=\"n\">u</span><span class=\"o\">.</span><span class=\"n\">trajectory</span><span class=\"p\">[::</span><span class=\"n\">skip</span><span class=\"p\">]),),</span> <span class=\"n\">dtype</span><span class=\"o\">=</span><span class=\"n\">np</span><span class=\"o\">.</span><span class=\"n\">float64</span><span class=\"p\">)</span>\n",
       "    <span class=\"k\">for</span> <span class=\"n\">f</span><span class=\"p\">,</span> <span class=\"n\">ts</span> <span class=\"ow\">in</span> <span class=\"nb\">enumerate</span><span class=\"p\">(</span><span class=\"n\">u</span><span class=\"o\">.</span><span class=\"n\">trajectory</span><span class=\"p\">[::</span><span class=\"n\">skip</span><span class=\"p\">]):</span>\n",
       "        <span class=\"n\">phi</span><span class=\"p\">[</span><span class=\"n\">f</span><span class=\"p\">]</span> <span class=\"o\">=</span> <span class=\"n\">calc_dihedrals</span><span class=\"p\">(</span><span class=\"o\">*</span><span class=\"p\">(</span><span class=\"n\">at</span><span class=\"o\">.</span><span class=\"n\">position</span> <span class=\"k\">for</span> <span class=\"n\">at</span> <span class=\"ow\">in</span> <span class=\"n\">phi_ag</span><span class=\"p\">),</span> <span class=\"n\">box</span><span class=\"o\">=</span><span class=\"n\">ts</span><span class=\"o\">.</span><span class=\"n\">dimensions</span><span class=\"p\">)</span>\n",
       "        <span class=\"n\">psi</span><span class=\"p\">[</span><span class=\"n\">f</span><span class=\"p\">]</span> <span class=\"o\">=</span> <span class=\"n\">calc_dihedrals</span><span class=\"p\">(</span><span class=\"o\">*</span><span class=\"p\">(</span><span class=\"n\">at</span><span class=\"o\">.</span><span class=\"n\">position</span> <span class=\"k\">for</span> <span class=\"n\">at</span> <span class=\"ow\">in</span> <span class=\"n\">psi_ag</span><span class=\"p\">),</span> <span class=\"n\">box</span><span class=\"o\">=</span><span class=\"n\">ts</span><span class=\"o\">.</span><span class=\"n\">dimensions</span><span class=\"p\">)</span>\n",
       "    <span class=\"c1\"># phi: -pi -&gt; 0</span>\n",
       "    <span class=\"c1\"># psi: 120 -&gt; 200 degree</span>\n",
       "    <span class=\"n\">deg</span> <span class=\"o\">=</span> <span class=\"mi\">180</span><span class=\"o\">/</span><span class=\"n\">np</span><span class=\"o\">.</span><span class=\"n\">pi</span>\n",
       "    <span class=\"n\">state</span><span class=\"p\">[(</span><span class=\"n\">phi</span> <span class=\"o\">&lt;=</span> <span class=\"mi\">0</span><span class=\"p\">)</span> <span class=\"o\">&amp;</span> <span class=\"p\">((</span><span class=\"mi\">120</span><span class=\"o\">/</span><span class=\"n\">deg</span> <span class=\"o\">&lt;=</span> <span class=\"n\">psi</span><span class=\"p\">)</span> <span class=\"o\">|</span> <span class=\"p\">(</span><span class=\"o\">-</span><span class=\"mi\">160</span><span class=\"o\">/</span><span class=\"n\">deg</span> <span class=\"o\">&gt;=</span> <span class=\"n\">psi</span><span class=\"p\">))]</span> <span class=\"o\">=</span> <span class=\"kc\">True</span>\n",
       "    <span class=\"k\">return</span> <span class=\"n\">state</span>\n",
       "\n",
       "\n",
       "<span class=\"k\">def</span> <span class=\"nf\">generate_atomgroups_for_ic</span><span class=\"p\">(</span><span class=\"n\">molecule</span><span class=\"p\">):</span>\n",
       "    <span class=\"sd\">&quot;&quot;&quot;</span>\n",
       "<span class=\"sd\">    Generate atomgroups describing all bonds, angles and dihedrals of given molecule.</span>\n",
       "\n",
       "<span class=\"sd\">    Parameters:</span>\n",
       "<span class=\"sd\">    -----------</span>\n",
       "<span class=\"sd\">    molecule - `MDAnalysis.AtomGroup` (preferably) of one continous molecule</span>\n",
       "\n",
       "<span class=\"sd\">    Returns:</span>\n",
       "<span class=\"sd\">    --------</span>\n",
       "<span class=\"sd\">    bonds, angles, dihedrals - lists of `MDAnalysis.AtomGroup` of len 2, 3 and 4</span>\n",
       "<span class=\"sd\">    &quot;&quot;&quot;</span>\n",
       "    <span class=\"n\">bonds</span> <span class=\"o\">=</span> <span class=\"p\">[</span><span class=\"n\">mda</span><span class=\"o\">.</span><span class=\"n\">AtomGroup</span><span class=\"p\">([],</span> <span class=\"n\">molecule</span><span class=\"o\">.</span><span class=\"n\">universe</span><span class=\"p\">)</span> <span class=\"k\">for</span> <span class=\"n\">_</span> <span class=\"ow\">in</span> <span class=\"nb\">range</span><span class=\"p\">(</span><span class=\"mi\">2</span><span class=\"p\">)]</span>\n",
       "    <span class=\"n\">angles</span> <span class=\"o\">=</span> <span class=\"p\">[</span><span class=\"n\">mda</span><span class=\"o\">.</span><span class=\"n\">AtomGroup</span><span class=\"p\">([],</span> <span class=\"n\">molecule</span><span class=\"o\">.</span><span class=\"n\">universe</span><span class=\"p\">)</span> <span class=\"k\">for</span> <span class=\"n\">_</span> <span class=\"ow\">in</span> <span class=\"nb\">range</span><span class=\"p\">(</span><span class=\"mi\">3</span><span class=\"p\">)]</span>\n",
       "    <span class=\"n\">dihedrals</span> <span class=\"o\">=</span> <span class=\"p\">[</span><span class=\"n\">mda</span><span class=\"o\">.</span><span class=\"n\">AtomGroup</span><span class=\"p\">([],</span> <span class=\"n\">molecule</span><span class=\"o\">.</span><span class=\"n\">universe</span><span class=\"p\">)</span> <span class=\"k\">for</span> <span class=\"n\">_</span> <span class=\"ow\">in</span> <span class=\"nb\">range</span><span class=\"p\">(</span><span class=\"mi\">4</span><span class=\"p\">)]</span>\n",
       "    <span class=\"k\">for</span> <span class=\"n\">b</span> <span class=\"ow\">in</span> <span class=\"n\">molecule</span><span class=\"o\">.</span><span class=\"n\">bonds</span><span class=\"p\">:</span>\n",
       "        <span class=\"k\">for</span> <span class=\"n\">i</span><span class=\"p\">,</span> <span class=\"n\">at</span> <span class=\"ow\">in</span> <span class=\"nb\">enumerate</span><span class=\"p\">(</span><span class=\"n\">b</span><span class=\"o\">.</span><span class=\"n\">atoms</span><span class=\"p\">):</span>\n",
       "            <span class=\"n\">bonds</span><span class=\"p\">[</span><span class=\"n\">i</span><span class=\"p\">]</span> <span class=\"o\">+=</span> <span class=\"n\">at</span>\n",
       "    <span class=\"k\">for</span> <span class=\"n\">a</span> <span class=\"ow\">in</span> <span class=\"n\">molecule</span><span class=\"o\">.</span><span class=\"n\">angles</span><span class=\"p\">:</span>\n",
       "        <span class=\"k\">for</span> <span class=\"n\">i</span><span class=\"p\">,</span> <span class=\"n\">at</span> <span class=\"ow\">in</span> <span class=\"nb\">enumerate</span><span class=\"p\">(</span><span class=\"n\">a</span><span class=\"o\">.</span><span class=\"n\">atoms</span><span class=\"p\">):</span>\n",
       "            <span class=\"n\">angles</span><span class=\"p\">[</span><span class=\"n\">i</span><span class=\"p\">]</span> <span class=\"o\">+=</span> <span class=\"n\">at</span>\n",
       "    <span class=\"k\">for</span> <span class=\"n\">d</span> <span class=\"ow\">in</span> <span class=\"n\">molecule</span><span class=\"o\">.</span><span class=\"n\">dihedrals</span><span class=\"p\">:</span>\n",
       "        <span class=\"k\">for</span> <span class=\"n\">i</span><span class=\"p\">,</span> <span class=\"n\">at</span> <span class=\"ow\">in</span> <span class=\"nb\">enumerate</span><span class=\"p\">(</span><span class=\"n\">d</span><span class=\"o\">.</span><span class=\"n\">atoms</span><span class=\"p\">):</span>\n",
       "            <span class=\"n\">dihedrals</span><span class=\"p\">[</span><span class=\"n\">i</span><span class=\"p\">]</span> <span class=\"o\">+=</span> <span class=\"n\">at</span>\n",
       "\n",
       "    <span class=\"k\">return</span> <span class=\"n\">bonds</span><span class=\"p\">,</span> <span class=\"n\">angles</span><span class=\"p\">,</span> <span class=\"n\">dihedrals</span>\n",
       "\n",
       "\n",
       "<span class=\"k\">def</span> <span class=\"nf\">descriptor_func_ic</span><span class=\"p\">(</span><span class=\"n\">traj</span><span class=\"p\">,</span> <span class=\"n\">molecule_selection</span><span class=\"o\">=</span><span class=\"s2\">&quot;protein&quot;</span><span class=\"p\">,</span> <span class=\"n\">skip</span><span class=\"o\">=</span><span class=\"mi\">1</span><span class=\"p\">,</span> <span class=\"n\">use_SI</span><span class=\"o\">=</span><span class=\"kc\">True</span><span class=\"p\">):</span>\n",
       "    <span class=\"sd\">&quot;&quot;&quot;Calculate symmetry invariant internal coordinate representation for molecule_selection.&quot;&quot;&quot;</span>\n",
       "    <span class=\"n\">u</span> <span class=\"o\">=</span> <span class=\"n\">mda</span><span class=\"o\">.</span><span class=\"n\">Universe</span><span class=\"p\">(</span><span class=\"n\">traj</span><span class=\"o\">.</span><span class=\"n\">structure_file</span><span class=\"p\">,</span> <span class=\"n\">traj</span><span class=\"o\">.</span><span class=\"n\">trajectory_file</span><span class=\"p\">,</span>\n",
       "                     <span class=\"n\">refresh_offsets</span><span class=\"o\">=</span><span class=\"kc\">True</span><span class=\"p\">,</span> <span class=\"n\">tpr_resid_from_one</span><span class=\"o\">=</span><span class=\"kc\">True</span><span class=\"p\">)</span>\n",
       "    <span class=\"n\">molecule</span> <span class=\"o\">=</span> <span class=\"n\">u</span><span class=\"o\">.</span><span class=\"n\">select_atoms</span><span class=\"p\">(</span><span class=\"n\">molecule_selection</span><span class=\"p\">)</span>\n",
       "    <span class=\"n\">bonds</span><span class=\"p\">,</span> <span class=\"n\">angles</span><span class=\"p\">,</span> <span class=\"n\">dihedrals</span> <span class=\"o\">=</span> <span class=\"n\">generate_atomgroups_for_ic</span><span class=\"p\">(</span><span class=\"n\">molecule</span><span class=\"p\">)</span>\n",
       "    <span class=\"n\">bond_vals</span> <span class=\"o\">=</span> <span class=\"n\">np</span><span class=\"o\">.</span><span class=\"n\">empty</span><span class=\"p\">((</span><span class=\"nb\">len</span><span class=\"p\">(</span><span class=\"n\">u</span><span class=\"o\">.</span><span class=\"n\">trajectory</span><span class=\"p\">[::</span><span class=\"n\">skip</span><span class=\"p\">]),</span> <span class=\"nb\">len</span><span class=\"p\">(</span><span class=\"n\">bonds</span><span class=\"p\">[</span><span class=\"mi\">0</span><span class=\"p\">])),</span> <span class=\"n\">dtype</span><span class=\"o\">=</span><span class=\"n\">np</span><span class=\"o\">.</span><span class=\"n\">float64</span><span class=\"p\">)</span>\n",
       "    <span class=\"n\">angle_vals</span> <span class=\"o\">=</span> <span class=\"n\">np</span><span class=\"o\">.</span><span class=\"n\">empty</span><span class=\"p\">((</span><span class=\"nb\">len</span><span class=\"p\">(</span><span class=\"n\">u</span><span class=\"o\">.</span><span class=\"n\">trajectory</span><span class=\"p\">[::</span><span class=\"n\">skip</span><span class=\"p\">]),</span> <span class=\"nb\">len</span><span class=\"p\">(</span><span class=\"n\">angles</span><span class=\"p\">[</span><span class=\"mi\">0</span><span class=\"p\">])),</span> <span class=\"n\">dtype</span><span class=\"o\">=</span><span class=\"n\">np</span><span class=\"o\">.</span><span class=\"n\">float64</span><span class=\"p\">)</span>\n",
       "    <span class=\"n\">dihedral_vals</span> <span class=\"o\">=</span> <span class=\"n\">np</span><span class=\"o\">.</span><span class=\"n\">empty</span><span class=\"p\">((</span><span class=\"nb\">len</span><span class=\"p\">(</span><span class=\"n\">u</span><span class=\"o\">.</span><span class=\"n\">trajectory</span><span class=\"p\">[::</span><span class=\"n\">skip</span><span class=\"p\">]),</span> <span class=\"nb\">len</span><span class=\"p\">(</span><span class=\"n\">dihedrals</span><span class=\"p\">[</span><span class=\"mi\">0</span><span class=\"p\">])),</span> <span class=\"n\">dtype</span><span class=\"o\">=</span><span class=\"n\">np</span><span class=\"o\">.</span><span class=\"n\">float64</span><span class=\"p\">)</span>\n",
       "    <span class=\"k\">for</span> <span class=\"n\">f</span><span class=\"p\">,</span> <span class=\"n\">ts</span> <span class=\"ow\">in</span> <span class=\"nb\">enumerate</span><span class=\"p\">(</span><span class=\"n\">u</span><span class=\"o\">.</span><span class=\"n\">trajectory</span><span class=\"p\">):</span>\n",
       "        <span class=\"n\">calc_bonds</span><span class=\"p\">(</span><span class=\"n\">bonds</span><span class=\"p\">[</span><span class=\"mi\">0</span><span class=\"p\">]</span><span class=\"o\">.</span><span class=\"n\">positions</span><span class=\"p\">,</span> <span class=\"n\">bonds</span><span class=\"p\">[</span><span class=\"mi\">1</span><span class=\"p\">]</span><span class=\"o\">.</span><span class=\"n\">positions</span><span class=\"p\">,</span> <span class=\"n\">box</span><span class=\"o\">=</span><span class=\"n\">ts</span><span class=\"o\">.</span><span class=\"n\">dimensions</span><span class=\"p\">,</span> <span class=\"n\">result</span><span class=\"o\">=</span><span class=\"n\">bond_vals</span><span class=\"p\">[</span><span class=\"n\">f</span><span class=\"p\">])</span>\n",
       "        <span class=\"n\">calc_angles</span><span class=\"p\">(</span><span class=\"o\">*</span><span class=\"p\">(</span><span class=\"n\">angles</span><span class=\"p\">[</span><span class=\"n\">i</span><span class=\"p\">]</span><span class=\"o\">.</span><span class=\"n\">positions</span> <span class=\"k\">for</span> <span class=\"n\">i</span> <span class=\"ow\">in</span> <span class=\"nb\">range</span><span class=\"p\">(</span><span class=\"mi\">3</span><span class=\"p\">)),</span> <span class=\"n\">box</span><span class=\"o\">=</span><span class=\"n\">ts</span><span class=\"o\">.</span><span class=\"n\">dimensions</span><span class=\"p\">,</span> <span class=\"n\">result</span><span class=\"o\">=</span><span class=\"n\">angle_vals</span><span class=\"p\">[</span><span class=\"n\">f</span><span class=\"p\">])</span>\n",
       "        <span class=\"n\">calc_dihedrals</span><span class=\"p\">(</span><span class=\"o\">*</span><span class=\"p\">(</span><span class=\"n\">dihedrals</span><span class=\"p\">[</span><span class=\"n\">i</span><span class=\"p\">]</span><span class=\"o\">.</span><span class=\"n\">positions</span> <span class=\"k\">for</span> <span class=\"n\">i</span> <span class=\"ow\">in</span> <span class=\"nb\">range</span><span class=\"p\">(</span><span class=\"mi\">4</span><span class=\"p\">)),</span> <span class=\"n\">box</span><span class=\"o\">=</span><span class=\"n\">ts</span><span class=\"o\">.</span><span class=\"n\">dimensions</span><span class=\"p\">,</span> <span class=\"n\">result</span><span class=\"o\">=</span><span class=\"n\">dihedral_vals</span><span class=\"p\">[</span><span class=\"n\">f</span><span class=\"p\">])</span>\n",
       "\n",
       "    <span class=\"c1\"># capture perdiodicity</span>\n",
       "    <span class=\"n\">angle_vals</span> <span class=\"o\">=</span> <span class=\"mf\">0.5</span> <span class=\"o\">*</span> <span class=\"p\">(</span><span class=\"mf\">1.</span> <span class=\"o\">+</span> <span class=\"n\">np</span><span class=\"o\">.</span><span class=\"n\">cos</span><span class=\"p\">(</span><span class=\"n\">angle_vals</span><span class=\"p\">))</span>\n",
       "    <span class=\"n\">dihedrals_out</span> <span class=\"o\">=</span> <span class=\"n\">np</span><span class=\"o\">.</span><span class=\"n\">empty</span><span class=\"p\">((</span><span class=\"n\">dihedral_vals</span><span class=\"o\">.</span><span class=\"n\">shape</span><span class=\"p\">[</span><span class=\"mi\">0</span><span class=\"p\">],</span> <span class=\"n\">dihedral_vals</span><span class=\"o\">.</span><span class=\"n\">shape</span><span class=\"p\">[</span><span class=\"mi\">1</span><span class=\"p\">]</span> <span class=\"o\">*</span> <span class=\"mi\">2</span><span class=\"p\">))</span>\n",
       "    <span class=\"n\">dihedrals_out</span><span class=\"p\">[:,</span> <span class=\"p\">::</span><span class=\"mi\">2</span><span class=\"p\">]</span> <span class=\"o\">=</span> <span class=\"mf\">0.5</span> <span class=\"o\">*</span> <span class=\"p\">(</span><span class=\"mf\">1.</span> <span class=\"o\">+</span> <span class=\"n\">np</span><span class=\"o\">.</span><span class=\"n\">sin</span><span class=\"p\">(</span><span class=\"n\">dihedral_vals</span><span class=\"p\">))</span>\n",
       "    <span class=\"n\">dihedrals_out</span><span class=\"p\">[:,</span> <span class=\"mi\">1</span><span class=\"p\">::</span><span class=\"mi\">2</span><span class=\"p\">]</span> <span class=\"o\">=</span> <span class=\"mf\">0.5</span> <span class=\"o\">*</span> <span class=\"p\">(</span><span class=\"mf\">1.</span> <span class=\"o\">+</span> <span class=\"n\">np</span><span class=\"o\">.</span><span class=\"n\">cos</span><span class=\"p\">(</span><span class=\"n\">dihedral_vals</span><span class=\"p\">))</span>\n",
       "\n",
       "    <span class=\"k\">if</span> <span class=\"n\">use_SI</span><span class=\"p\">:</span>\n",
       "        <span class=\"c1\"># mdanalysis uses \\AA</span>\n",
       "        <span class=\"n\">bond_vals</span> <span class=\"o\">/=</span> <span class=\"mf\">10.</span>\n",
       "\n",
       "    <span class=\"k\">return</span> <span class=\"n\">np</span><span class=\"o\">.</span><span class=\"n\">concatenate</span><span class=\"p\">((</span><span class=\"n\">bond_vals</span><span class=\"p\">,</span> <span class=\"n\">angle_vals</span><span class=\"p\">,</span> <span class=\"n\">dihedrals_out</span><span class=\"p\">),</span> <span class=\"n\">axis</span><span class=\"o\">=</span><span class=\"mi\">1</span><span class=\"p\">)</span>\n",
       "\n",
       "\n",
       "<span class=\"k\">def</span> <span class=\"nf\">descriptor_func_psi_phi</span><span class=\"p\">(</span><span class=\"n\">traj</span><span class=\"p\">,</span> <span class=\"n\">skip</span><span class=\"o\">=</span><span class=\"mi\">1</span><span class=\"p\">):</span>\n",
       "    <span class=\"sd\">&quot;&quot;&quot;Only psi and phi angle as internal coords. Actually cos and sin for both of them.&quot;&quot;&quot;</span>\n",
       "    <span class=\"n\">u</span> <span class=\"o\">=</span> <span class=\"n\">mda</span><span class=\"o\">.</span><span class=\"n\">Universe</span><span class=\"p\">(</span><span class=\"n\">traj</span><span class=\"o\">.</span><span class=\"n\">structure_file</span><span class=\"p\">,</span> <span class=\"n\">traj</span><span class=\"o\">.</span><span class=\"n\">trajectory_file</span><span class=\"p\">,</span>\n",
       "                     <span class=\"n\">refresh_offsets</span><span class=\"o\">=</span><span class=\"kc\">True</span><span class=\"p\">,</span> <span class=\"n\">tpr_resid_from_one</span><span class=\"o\">=</span><span class=\"kc\">True</span><span class=\"p\">)</span>\n",
       "    <span class=\"n\">psi_ag</span> <span class=\"o\">=</span> <span class=\"n\">u</span><span class=\"o\">.</span><span class=\"n\">select_atoms</span><span class=\"p\">(</span><span class=\"s2\">&quot;index 6 or index 8 or index 14 or index 16&quot;</span><span class=\"p\">)</span>\n",
       "    <span class=\"n\">phi_ag</span> <span class=\"o\">=</span> <span class=\"n\">u</span><span class=\"o\">.</span><span class=\"n\">select_atoms</span><span class=\"p\">(</span><span class=\"s2\">&quot;index 4 or index 6 or index 8 or index 14&quot;</span><span class=\"p\">)</span>\n",
       "    <span class=\"c1\"># empty arrays to fill</span>\n",
       "    <span class=\"n\">phi</span> <span class=\"o\">=</span> <span class=\"n\">np</span><span class=\"o\">.</span><span class=\"n\">empty</span><span class=\"p\">((</span><span class=\"nb\">len</span><span class=\"p\">(</span><span class=\"n\">u</span><span class=\"o\">.</span><span class=\"n\">trajectory</span><span class=\"p\">[::</span><span class=\"n\">skip</span><span class=\"p\">]),</span> <span class=\"mi\">1</span><span class=\"p\">),</span> <span class=\"n\">dtype</span><span class=\"o\">=</span><span class=\"n\">np</span><span class=\"o\">.</span><span class=\"n\">float64</span><span class=\"p\">)</span>\n",
       "    <span class=\"n\">psi</span> <span class=\"o\">=</span> <span class=\"n\">np</span><span class=\"o\">.</span><span class=\"n\">empty</span><span class=\"p\">((</span><span class=\"nb\">len</span><span class=\"p\">(</span><span class=\"n\">u</span><span class=\"o\">.</span><span class=\"n\">trajectory</span><span class=\"p\">[::</span><span class=\"n\">skip</span><span class=\"p\">]),</span> <span class=\"mi\">1</span><span class=\"p\">),</span> <span class=\"n\">dtype</span><span class=\"o\">=</span><span class=\"n\">np</span><span class=\"o\">.</span><span class=\"n\">float64</span><span class=\"p\">)</span>\n",
       "    <span class=\"k\">for</span> <span class=\"n\">f</span><span class=\"p\">,</span> <span class=\"n\">ts</span> <span class=\"ow\">in</span> <span class=\"nb\">enumerate</span><span class=\"p\">(</span><span class=\"n\">u</span><span class=\"o\">.</span><span class=\"n\">trajectory</span><span class=\"p\">[::</span><span class=\"n\">skip</span><span class=\"p\">]):</span>\n",
       "        <span class=\"n\">phi</span><span class=\"p\">[</span><span class=\"n\">f</span><span class=\"p\">,</span> <span class=\"mi\">0</span><span class=\"p\">]</span> <span class=\"o\">=</span> <span class=\"n\">calc_dihedrals</span><span class=\"p\">(</span><span class=\"o\">*</span><span class=\"p\">(</span><span class=\"n\">at</span><span class=\"o\">.</span><span class=\"n\">position</span> <span class=\"k\">for</span> <span class=\"n\">at</span> <span class=\"ow\">in</span> <span class=\"n\">phi_ag</span><span class=\"p\">),</span> <span class=\"n\">box</span><span class=\"o\">=</span><span class=\"n\">ts</span><span class=\"o\">.</span><span class=\"n\">dimensions</span><span class=\"p\">)</span>\n",
       "        <span class=\"n\">psi</span><span class=\"p\">[</span><span class=\"n\">f</span><span class=\"p\">,</span> <span class=\"mi\">0</span><span class=\"p\">]</span> <span class=\"o\">=</span> <span class=\"n\">calc_dihedrals</span><span class=\"p\">(</span><span class=\"o\">*</span><span class=\"p\">(</span><span class=\"n\">at</span><span class=\"o\">.</span><span class=\"n\">position</span> <span class=\"k\">for</span> <span class=\"n\">at</span> <span class=\"ow\">in</span> <span class=\"n\">psi_ag</span><span class=\"p\">),</span> <span class=\"n\">box</span><span class=\"o\">=</span><span class=\"n\">ts</span><span class=\"o\">.</span><span class=\"n\">dimensions</span><span class=\"p\">)</span>\n",
       "\n",
       "    <span class=\"k\">return</span> <span class=\"n\">np</span><span class=\"o\">.</span><span class=\"n\">concatenate</span><span class=\"p\">((</span><span class=\"n\">psi</span><span class=\"p\">,</span> <span class=\"n\">phi</span><span class=\"p\">),</span> <span class=\"n\">axis</span><span class=\"o\">=</span><span class=\"mi\">1</span><span class=\"p\">)</span>\n",
       "    <span class=\"c1\">#return 1 + 0.5*np.concatenate([np.sin(psi), np.cos(psi), np.sin(phi), np.cos(phi)], axis=1)</span>\n",
       "\n",
       "\n",
       "<span class=\"k\">if</span> <span class=\"vm\">__name__</span> <span class=\"o\">==</span> <span class=\"s2\">&quot;__main__&quot;</span><span class=\"p\">:</span>\n",
       "    <span class=\"n\">parser</span> <span class=\"o\">=</span> <span class=\"n\">argparse</span><span class=\"o\">.</span><span class=\"n\">ArgumentParser</span><span class=\"p\">(</span>\n",
       "                <span class=\"n\">description</span><span class=\"o\">=</span><span class=\"s2\">&quot;Calculate CV values for alanine dipeptide&quot;</span><span class=\"p\">,</span>\n",
       "                                     <span class=\"p\">)</span>\n",
       "    <span class=\"n\">parser</span><span class=\"o\">.</span><span class=\"n\">add_argument</span><span class=\"p\">(</span><span class=\"s2\">&quot;structure_file&quot;</span><span class=\"p\">,</span> <span class=\"nb\">type</span><span class=\"o\">=</span><span class=\"nb\">str</span><span class=\"p\">)</span>\n",
       "    <span class=\"n\">parser</span><span class=\"o\">.</span><span class=\"n\">add_argument</span><span class=\"p\">(</span><span class=\"s2\">&quot;trajectory_file&quot;</span><span class=\"p\">,</span> <span class=\"nb\">type</span><span class=\"o\">=</span><span class=\"nb\">str</span><span class=\"p\">)</span>\n",
       "    <span class=\"n\">parser</span><span class=\"o\">.</span><span class=\"n\">add_argument</span><span class=\"p\">(</span><span class=\"s2\">&quot;output_file&quot;</span><span class=\"p\">,</span> <span class=\"nb\">type</span><span class=\"o\">=</span><span class=\"nb\">str</span><span class=\"p\">)</span>\n",
       "    <span class=\"n\">parser</span><span class=\"o\">.</span><span class=\"n\">add_argument</span><span class=\"p\">(</span><span class=\"s2\">&quot;-f&quot;</span><span class=\"p\">,</span> <span class=\"s2\">&quot;--function&quot;</span><span class=\"p\">,</span> <span class=\"nb\">type</span><span class=\"o\">=</span><span class=\"nb\">str</span><span class=\"p\">,</span>\n",
       "                        <span class=\"n\">default</span><span class=\"o\">=</span><span class=\"s2\">&quot;descriptors&quot;</span><span class=\"p\">,</span>\n",
       "                        <span class=\"n\">choices</span><span class=\"o\">=</span><span class=\"p\">[</span><span class=\"s2\">&quot;alphaR&quot;</span><span class=\"p\">,</span> <span class=\"s2\">&quot;C7eq&quot;</span><span class=\"p\">,</span> <span class=\"s2\">&quot;descriptors_ic&quot;</span><span class=\"p\">,</span> <span class=\"s2\">&quot;descriptors_psi_phi&quot;</span><span class=\"p\">])</span>\n",
       "    <span class=\"n\">parser</span><span class=\"o\">.</span><span class=\"n\">add_argument</span><span class=\"p\">(</span><span class=\"s2\">&quot;-s&quot;</span><span class=\"p\">,</span> <span class=\"s2\">&quot;--skip&quot;</span><span class=\"p\">,</span> <span class=\"nb\">type</span><span class=\"o\">=</span><span class=\"nb\">int</span><span class=\"p\">,</span> <span class=\"n\">default</span><span class=\"o\">=</span><span class=\"mi\">1</span><span class=\"p\">)</span>\n",
       "    <span class=\"n\">parser</span><span class=\"o\">.</span><span class=\"n\">add_argument</span><span class=\"p\">(</span><span class=\"s2\">&quot;-si&quot;</span><span class=\"p\">,</span> <span class=\"s2\">&quot;--use-SI&quot;</span><span class=\"p\">,</span> <span class=\"n\">dest</span><span class=\"o\">=</span><span class=\"s2\">&quot;use_SI&quot;</span><span class=\"p\">,</span> <span class=\"nb\">type</span><span class=\"o\">=</span><span class=\"nb\">bool</span><span class=\"p\">,</span> <span class=\"n\">default</span><span class=\"o\">=</span><span class=\"kc\">True</span><span class=\"p\">)</span>\n",
       "    <span class=\"n\">parser</span><span class=\"o\">.</span><span class=\"n\">add_argument</span><span class=\"p\">(</span><span class=\"s2\">&quot;-ms&quot;</span><span class=\"p\">,</span> <span class=\"s2\">&quot;--molecule-selection&quot;</span><span class=\"p\">,</span> <span class=\"n\">dest</span><span class=\"o\">=</span><span class=\"s2\">&quot;molecule_selection&quot;</span><span class=\"p\">,</span> <span class=\"nb\">type</span><span class=\"o\">=</span><span class=\"nb\">str</span><span class=\"p\">,</span> <span class=\"n\">default</span><span class=\"o\">=</span><span class=\"s2\">&quot;protein&quot;</span><span class=\"p\">,</span>\n",
       "                        <span class=\"n\">help</span><span class=\"o\">=</span><span class=\"s2\">&quot;molecule selection string for internal coordinate representation&quot;</span><span class=\"p\">)</span>\n",
       "    <span class=\"n\">args</span> <span class=\"o\">=</span> <span class=\"n\">parser</span><span class=\"o\">.</span><span class=\"n\">parse_args</span><span class=\"p\">()</span>\n",
       "    <span class=\"c1\"># NOTE: since args is a namespace args.trajectory_file will be the path to</span>\n",
       "    <span class=\"c1\">#       the trajectory file, i.e. we can pass args instead of an</span>\n",
       "    <span class=\"c1\">#       aimmd.Trajectory to the functions above</span>\n",
       "    <span class=\"k\">if</span> <span class=\"n\">args</span><span class=\"o\">.</span><span class=\"n\">function</span> <span class=\"o\">==</span> <span class=\"s2\">&quot;descriptors_ic&quot;</span><span class=\"p\">:</span>\n",
       "        <span class=\"n\">vals</span> <span class=\"o\">=</span> <span class=\"n\">descriptor_func_ic</span><span class=\"p\">(</span><span class=\"n\">args</span><span class=\"p\">,</span> <span class=\"n\">molecule_selection</span><span class=\"o\">=</span><span class=\"n\">args</span><span class=\"o\">.</span><span class=\"n\">molecule_selection</span><span class=\"p\">,</span>\n",
       "                                  <span class=\"n\">skip</span><span class=\"o\">=</span><span class=\"n\">args</span><span class=\"o\">.</span><span class=\"n\">skip</span><span class=\"p\">,</span> <span class=\"n\">use_SI</span><span class=\"o\">=</span><span class=\"n\">args</span><span class=\"o\">.</span><span class=\"n\">use_SI</span><span class=\"p\">)</span>\n",
       "    <span class=\"k\">elif</span> <span class=\"n\">args</span><span class=\"o\">.</span><span class=\"n\">function</span> <span class=\"o\">==</span> <span class=\"s2\">&quot;descriptors_psi_phi&quot;</span><span class=\"p\">:</span>\n",
       "        <span class=\"n\">vals</span> <span class=\"o\">=</span> <span class=\"n\">descriptor_func_psi_phi</span><span class=\"p\">(</span><span class=\"n\">args</span><span class=\"p\">,</span> <span class=\"n\">skip</span><span class=\"o\">=</span><span class=\"n\">args</span><span class=\"o\">.</span><span class=\"n\">skip</span><span class=\"p\">)</span>\n",
       "    <span class=\"k\">elif</span> <span class=\"n\">args</span><span class=\"o\">.</span><span class=\"n\">function</span> <span class=\"o\">==</span> <span class=\"s2\">&quot;alphaR&quot;</span><span class=\"p\">:</span>\n",
       "        <span class=\"n\">vals</span> <span class=\"o\">=</span> <span class=\"n\">alpha_R</span><span class=\"p\">(</span><span class=\"n\">args</span><span class=\"p\">,</span> <span class=\"n\">skip</span><span class=\"o\">=</span><span class=\"n\">args</span><span class=\"o\">.</span><span class=\"n\">skip</span><span class=\"p\">)</span>\n",
       "    <span class=\"k\">elif</span> <span class=\"n\">args</span><span class=\"o\">.</span><span class=\"n\">function</span> <span class=\"o\">==</span> <span class=\"s2\">&quot;C7eq&quot;</span><span class=\"p\">:</span>\n",
       "        <span class=\"n\">vals</span> <span class=\"o\">=</span> <span class=\"n\">C7_eq</span><span class=\"p\">(</span><span class=\"n\">args</span><span class=\"p\">,</span> <span class=\"n\">skip</span><span class=\"o\">=</span><span class=\"n\">args</span><span class=\"o\">.</span><span class=\"n\">skip</span><span class=\"p\">)</span>\n",
       "\n",
       "    <span class=\"n\">np</span><span class=\"o\">.</span><span class=\"n\">save</span><span class=\"p\">(</span><span class=\"n\">args</span><span class=\"o\">.</span><span class=\"n\">output_file</span><span class=\"p\">,</span> <span class=\"n\">vals</span><span class=\"p\">)</span>\n",
       "</pre></div>\n"
      ],
      "text/plain": [
       "<IPython.core.display.HTML object>"
      ]
     },
     "execution_count": 7,
     "metadata": {},
     "output_type": "execute_result"
    }
   ],
   "source": [
    "# this is just to have a look at the file content\n",
    "from pygments import highlight\n",
    "from pygments.lexers import PythonLexer\n",
    "from pygments.formatters import HtmlFormatter\n",
    "import IPython\n",
    "\n",
    "with open('resources/ala_state_funcs_mda.py') as f:\n",
    "    code = f.read()\n",
    "\n",
    "formatter = HtmlFormatter()\n",
    "IPython.display.HTML('<style type=\"text/css\">{}</style>{}'.format(\n",
    "    formatter.get_style_defs('.highlight'),\n",
    "    highlight(code, PythonLexer(), formatter)))"
   ]
  },
  {
   "cell_type": "markdown",
   "metadata": {},
   "source": [
    "### Import the state functions and wrap them\n",
    "As you hopefully have guessed from the code above each state functions returns one value for every frame in the trajectory, i.e. their output is expected to be of shape `(len(trajectory),)` and the values simply indicate whether each frame is to be considered part of the respective state (`True`) or not (`False`)."
   ]
  },
  {
   "cell_type": "code",
   "execution_count": 8,
   "metadata": {},
   "outputs": [],
   "source": [
    "cwd = os.path.abspath(os.getcwd())\n",
    "# chdir to the resources folder so we can import the state functions\n",
    "os.chdir(\"resources/\")\n",
    "\n",
    "from ala_state_funcs_mda import C7_eq, alpha_R\n",
    "\n",
    "os.chdir(cwd)"
   ]
  },
  {
   "cell_type": "code",
   "execution_count": 9,
   "metadata": {},
   "outputs": [],
   "source": [
    "from asyncmd import trajectory as asynctraj"
   ]
  },
  {
   "cell_type": "code",
   "execution_count": 10,
   "metadata": {},
   "outputs": [],
   "source": [
    "C7_eq_wrapped = asynctraj.PyTrajectoryFunctionWrapper(C7_eq)\n",
    "# the optional call_kwargs argument can be used to specify additional keyword arguments\n",
    "# [we pass skip=1 which does not do anything because it is the default value only to show that call_kwargs exists]\n",
    "alpha_R_wrapped = asynctraj.PyTrajectoryFunctionWrapper(alpha_R, call_kwargs={\"skip\": 1})"
   ]
  },
  {
   "cell_type": "markdown",
   "metadata": {},
   "source": [
    "### Load two different configurations as `asyncmd.Trajectory`"
   ]
  },
  {
   "cell_type": "code",
   "execution_count": 11,
   "metadata": {},
   "outputs": [],
   "source": [
    "# create an asyncmd.Trajectory of the initial configuration from the `GmxEngine.ipynb` notebook\n",
    "conf_in_alphaR = asyncmd.Trajectory(trajectory_file=\"gromacs/gmx_infiles/capped_alanine_dipeptide/conf_in_alphaR.trr\",\n",
    "                                    structure_file=\"gromacs/gmx_infiles/capped_alanine_dipeptide/conf.gro\",\n",
    "                                    )\n",
    "# create a second asyncmd.Trajectory of another configuration (in another state)\n",
    "conf_in_C7eq = asyncmd.Trajectory(trajectory_file=\"gromacs/gmx_infiles/capped_alanine_dipeptide/conf_in_C7eq.trr\",\n",
    "                                  structure_file=\"gromacs/gmx_infiles/capped_alanine_dipeptide/conf.gro\",\n",
    "                                  )"
   ]
  },
  {
   "cell_type": "markdown",
   "metadata": {},
   "source": [
    "### Apply the state functions to both configurations/trajectories simultaneously\n",
    "We use `asyncio.gather` as usual to collect multiple tasks/coroutine executions and execute them all at once in the subprocesses to leverage the power of multiple cores."
   ]
  },
  {
   "cell_type": "code",
   "execution_count": 12,
   "metadata": {},
   "outputs": [
    {
     "name": "stdout",
     "output_type": "stream",
     "text": [
      "States (alphaR, C7_eq) for conf_in_alphaR: [array([ True]), array([False])].\n",
      "States (alphaR, C7_eq) for other_conf: [array([False]), array([ True])].\n",
      "The calculation took 0.003 seconds\n"
     ]
    }
   ],
   "source": [
    "import time\n",
    "states = [alpha_R_wrapped, C7_eq_wrapped]\n",
    "\n",
    "start = time.time()\n",
    "states_for_conf_in_alphaR = await asyncio.gather(*(sf(conf_in_alphaR) for sf in states))\n",
    "states_for_conf_in_C7eq = await asyncio.gather(*(sf(conf_in_C7eq) for sf in states))\n",
    "end = time.time()\n",
    "\n",
    "print(f\"States (alphaR, C7_eq) for conf_in_alphaR: {states_for_conf_in_alphaR}.\")\n",
    "print(f\"States (alphaR, C7_eq) for other_conf: {states_for_conf_in_C7eq}.\")\n",
    "print(f\"The calculation took {round(end-start, 4)} seconds\")"
   ]
  },
  {
   "cell_type": "markdown",
   "metadata": {},
   "source": [
    "### Applying the state functions again, we can observe that the result is obtained much faster because it has been cached\n",
    "The caching applies to all wrapped functions, i.e. the return values of all wrapped functions operating on `asyncmd.Trajectory` objects are cached. This means that all (potentially costly) functions operating on a trajectory will have to be evaluated only once (the first time they are called), even if called multiple places in the code (e.g. because the order of execution was yet undetermined)."
   ]
  },
  {
   "cell_type": "code",
   "execution_count": 13,
   "metadata": {},
   "outputs": [
    {
     "name": "stdout",
     "output_type": "stream",
     "text": [
      "States (alphaR, C7_eq) for conf_in_alphaR: [array([ True]), array([False])].\n",
      "States (alphaR, C7_eq) for other_conf: [array([False]), array([ True])].\n",
      "The calculation took 0.0033 seconds\n"
     ]
    }
   ],
   "source": [
    "start = time.time()\n",
    "states_for_conf_in_alphaR = await asyncio.gather(*(sf(conf_in_alphaR) for sf in states))\n",
    "states_for_conf_in_C7eq = await asyncio.gather(*(sf(conf_in_C7eq) for sf in states))\n",
    "end = time.time()\n",
    "\n",
    "print(f\"States (alphaR, C7_eq) for conf_in_alphaR: {states_for_conf_in_alphaR}.\")\n",
    "print(f\"States (alphaR, C7_eq) for other_conf: {states_for_conf_in_C7eq}.\")\n",
    "print(f\"The calculation took {round(end-start, 4)} seconds\")"
   ]
  },
  {
   "cell_type": "markdown",
   "metadata": {},
   "source": [
    "### Note: As you can see each of the conformations is in one of the states!"
   ]
  },
  {
   "cell_type": "markdown",
   "metadata": {},
   "source": [
    "# `asyncmd.trajectory.ConditionalTrajectoryPropagator`\n",
    "We will now use the `asyncmd.trajectory.ConditionalTrajectoryPropagator` to propagate a trajectory from each of the conformations until the other state is reached. Since propagating trajectories from some initial cofiguration until a state is reached is such a common condition (at least in the pathsampling community) an alias for the `asyncmd.trajectory.ConditionalTrajectoryPropagator` is `asyncmd.trajectory.TrajectoryPropagatorUntilAnyState`.\n",
    "\n",
    "However, the most general view is that you give the `asyncmd.trajectory.ConditionalTrajectoryPropagator` a list of conditions (i.e. functions which act on trajectories and return `True` or `False` for every frame) and that the trajectory propagation is stopped as soon as any of these conditions are fullfilled. If the conditions are state functions this means that you will propagate the trajectory from a given starting configuration until any of the metastable states is reached which is e.g. what you want to do in a committor simulation or in transition path sampling.\n",
    "\n",
    "Note that since here each of the conformations is already in one of the states, we will need to setup two seperate propagators with one of the states each (for a propagator with both states both of the starting conformations already fulfill the stoping criterion \"inside any of the states\")."
   ]
  },
  {
   "cell_type": "code",
   "execution_count": 14,
   "metadata": {},
   "outputs": [
    {
     "name": "stdout",
     "output_type": "stream",
     "text": [
      "['C-rescale']\n"
     ]
    }
   ],
   "source": [
    "# Pcoupl = C-rescale needs gromacs version >= 2021\n",
    "mdp = asyncgmx.MDP(\"gromacs/gmx_infiles/capped_alanine_dipeptide/md.mdp\")\n",
    "print(mdp[\"Pcoupl\"])"
   ]
  },
  {
   "cell_type": "code",
   "execution_count": 15,
   "metadata": {},
   "outputs": [],
   "source": [
    "# if your gmx version is >= 2021 you should comment the next line since C-rescale give the correct ensemble (and Berendsen doesnt!)\n",
    "mdp[\"Pcoupl\"] = \"Berendsen\""
   ]
  },
  {
   "cell_type": "code",
   "execution_count": 17,
   "metadata": {},
   "outputs": [],
   "source": [
    "# The walltime per trajectory part determines how often we check if the conditions are fullfilled,\n",
    "# the \"workflow\" of the ConditionalTrajectoryPropagator is the following:\n",
    "#     1.) propagate for walltime (computation possibly submitted via SLURM)\n",
    "#     2.) check if any condition is fullfilled (also possibly submitted via SLURM)\n",
    "#     3.) If no condition is fullfilled go to 1.\n",
    "\n",
    "walltime = 180 / (60 * 60)  # walltime is measured in hours, so this will be 180 s per part!\n",
    "\n",
    "# propagator towards alphaR state (will be used for conf_in_C7eq)\n",
    "propa_towards_alphaR = asynctraj.ConditionalTrajectoryPropagator(\n",
    "                                               conditions=[alpha_R_wrapped], # list of state functions to terminate on\n",
    "                                               engine_cls=asyncgmx.GmxEngine,\n",
    "                                               engine_kwargs={\"mdconfig\": mdp,\n",
    "                                                              \"gro_file\": \"gromacs/gmx_infiles/capped_alanine_dipeptide/conf.gro\",\n",
    "                                                              \"top_file\": \"gromacs/gmx_infiles/capped_alanine_dipeptide/topol_amber99sbildn.top\",\n",
    "                                                              \"mdrun_extra_args\": \"-ntomp 2\",  # for gmx sans (thread)MPI\n",
    "                                                              #\"mdrun_extra_args\": \"-nt 2\",  # for gmx with (thrad)MPI\n",
    "                                                              },\n",
    "                                               walltime_per_part=walltime,\n",
    "                                               # we could (and in production SHOULD) set an upper boundary for the total number of steps/frames\n",
    "                                               # Note that max_steps and max_frames are redundant since max_frames = max_steps / nstout\n",
    "                                               # and that max_steps takes precedence over max_frames\n",
    "                                               #max_steps=1000000000,\n",
    "                                               #max_frames=10000000,\n",
    "                                                                    )\n",
    "\n",
    "# propagator towards C7_eq state (for use with conf_in_alphaR)\n",
    "propa_towards_C7_eq = asynctraj.ConditionalTrajectoryPropagator(\n",
    "                                               conditions=[C7_eq_wrapped],\n",
    "                                               engine_cls=asyncgmx.GmxEngine,\n",
    "                                               engine_kwargs={\"mdconfig\": mdp,\n",
    "                                                              \"gro_file\": \"gromacs/gmx_infiles/capped_alanine_dipeptide/conf.gro\",\n",
    "                                                              \"top_file\": \"gromacs/gmx_infiles/capped_alanine_dipeptide/topol_amber99sbildn.top\",\n",
    "                                                              \"mdrun_extra_args\": \"-ntomp 2\",  # for gmx sans (thread)MPI\n",
    "                                                              #\"mdrun_extra_args\": \"-nt 2\",  # for gmx with (thrad)MPI\n",
    "                                                              },\n",
    "                                               walltime_per_part=walltime,\n",
    "                                                                )"
   ]
  },
  {
   "cell_type": "markdown",
   "metadata": {},
   "source": [
    "### We will use the `propagate_and_concatenate()` method which directly concatenates the generated trajectory parts into one trajectory\n",
    "This concatenated trajectory will go from the initial configuration until (including) the first frame on which any of the conditions was `True`, i.e. until the first state is reached.\n",
    "\n",
    "We could however also use the `propagate()` method to get back a list of trajectory parts as soon as the first state is reached. If we would like we could then later concatenate the list of trajecory parts using the `concatenate()` method but maybe you rather want to use it as input to another function to e.g. construct a complete transition from two lists of trajectory parts going into different states and do the concatenation only once. In this case you might find the coroutine `asyncmd.trajectory.construct_TP_from_plus_and_minus_traj_segments` useful.\n",
    "\n",
    "The bottom line is: This class is thought as building block for more complex algorithms and it is possible to call almost any of its functions independently. Have a look at the autocomplete, docstrings and the full documentation to find the methods that suit your goals/workflow the best."
   ]
  },
  {
   "cell_type": "code",
   "execution_count": 18,
   "metadata": {},
   "outputs": [],
   "source": [
    "# the `propagate_and_concatenate` method returns the tuple (traj_to_state, idx_of_first_state_reached)\n",
    "# since both propagators only have one state we can directly discard that meaningless information (the idx is going to be zero in both cases)\n",
    "# Using asyncio.gather as usual to do both MD runs in parallel \n",
    "(traj_to_alphaR, _), (traj_to_C7eq, _) = await asyncio.gather(propa_towards_alphaR.propagate_and_concatenate(\n",
    "                                                                                        starting_configuration=conf_in_C7eq,\n",
    "                                                                                        workdir=wdirs[0],\n",
    "                                                                                        deffnm=\"towards_alphaR\",\n",
    "                                                                                        tra_out=os.path.join(wdirs[0], \"traj_to_alphaR.trr\")\n",
    "                                                                                                             ),\n",
    "                                                              propa_towards_C7_eq.propagate_and_concatenate(\n",
    "                                                                                        starting_configuration=conf_in_alphaR,\n",
    "                                                                                        workdir=wdirs[1],\n",
    "                                                                                        deffnm=\"towards_C7_eq\",\n",
    "                                                                                        tra_out=os.path.join(wdirs[1], \"traj_to_C7_eq.trr\")\n",
    "                                                                                                            )\n",
    "                                                              )"
   ]
  },
  {
   "cell_type": "code",
   "execution_count": 19,
   "metadata": {},
   "outputs": [
    {
     "name": "stdout",
     "output_type": "stream",
     "text": [
      "The trajectory towards alphaR has 1676 frames, the one towards C7_eq has 483 frames.\n"
     ]
    }
   ],
   "source": [
    "print(f\"The trajectory towards alphaR has {len(traj_to_alphaR)} frames, the one towards C7_eq has {len(traj_to_C7eq)} frames.\")"
   ]
  },
  {
   "cell_type": "markdown",
   "metadata": {},
   "source": [
    "## Now we extract a frame not belonging to any state from the trajectory towards ${\\alpha}_{R}$.\n",
    "We will use the `asyncmd.trajcetory.convert.NoModificationFrameExtractor` for that since we just want any configuration not in any of the states and do not care for its momenta.\n",
    "\n",
    "`asyncmd` includes a range of (hopefully) useful `FrameExtractors`, e.g. the `RandomVelocitiesFrameExtractor` to extract a frame and draw random Maxwell-Boltzmann velocities for it before writing it out or the `InvertedVelocitiesFrameExtractor` which is useful for two way shooting. In case you are interested have a look at the autocomplete of the `asyncmd.trajectory.convert` module or the full API documentation."
   ]
  },
  {
   "cell_type": "code",
   "execution_count": 20,
   "metadata": {},
   "outputs": [
    {
     "name": "stdout",
     "output_type": "stream",
     "text": [
      "There are 106 frames not in any state.\n"
     ]
    }
   ],
   "source": [
    "extractor = asynctraj.convert.NoModificationFrameExtractor()  # instatiate extractor\n",
    "# find out which frames are in no state\n",
    "frame_in_no_state = np.logical_not((await alpha_R_wrapped(traj_to_alphaR)) | (await C7_eq_wrapped(traj_to_alphaR)))\n",
    "\n",
    "print(f\"There are {np.sum(frame_in_no_state)} frames not in any state.\")"
   ]
  },
  {
   "cell_type": "code",
   "execution_count": 21,
   "metadata": {},
   "outputs": [
    {
     "data": {
      "text/plain": [
       "array([   4,   46,   47,   48,  149,  273,  274,  275,  276,  277,  278,\n",
       "        279,  280,  281,  282,  283,  284,  285,  286,  287,  288,  289,\n",
       "        290,  291,  292,  293,  294,  298,  299,  300,  301,  302,  303,\n",
       "        304,  305,  306,  388,  389,  390,  391,  512,  513,  514,  515,\n",
       "        516,  517,  518,  519,  520,  521,  522,  523,  524,  815,  816,\n",
       "        817,  889,  920,  929, 1038, 1097, 1131, 1132, 1133, 1153, 1154,\n",
       "       1155, 1187, 1188, 1211, 1212, 1213, 1406, 1576, 1627, 1644, 1645,\n",
       "       1646, 1647, 1648, 1649, 1650, 1651, 1652, 1653, 1654, 1655, 1656,\n",
       "       1657, 1658, 1659, 1660, 1661, 1662, 1663, 1664, 1665, 1666, 1667,\n",
       "       1668, 1669, 1670, 1671, 1672, 1673, 1674])"
      ]
     },
     "execution_count": 21,
     "metadata": {},
     "output_type": "execute_result"
    }
   ],
   "source": [
    "# these are the indices of the frames not in any state\n",
    "# there should be a continous strip of indices at the end, this is a complete transition from C7_eq to alphaR\n",
    "np.where(frame_in_no_state)[0]"
   ]
  },
  {
   "cell_type": "code",
   "execution_count": 22,
   "metadata": {},
   "outputs": [],
   "source": [
    "# write out the structure\n",
    "tp_conf = extractor.extract(outfile=os.path.join(wdirs[2], \"first_frame.trr\"),\n",
    "                            traj_in=traj_to_alphaR,\n",
    "                            idx=np.where(frame_in_no_state)[0][-10], # (probably) takes a frame from the transition\n",
    "                            )"
   ]
  },
  {
   "cell_type": "code",
   "execution_count": 23,
   "metadata": {},
   "outputs": [
    {
     "data": {
      "text/plain": [
       "Trajectory(trajectory_file=/home/think/scratch/asyncmd/propagator_wdir2/first_frame.trr, structure_file=/home/think/scratch/asyncmd/propagator_wdir0/towards_alphaR.tpr)"
      ]
     },
     "execution_count": 23,
     "metadata": {},
     "output_type": "execute_result"
    }
   ],
   "source": [
    "tp_conf"
   ]
  },
  {
   "cell_type": "code",
   "execution_count": 24,
   "metadata": {},
   "outputs": [],
   "source": [
    "# instatiate a propagator towards any of the two states, this will finish as soon as the first is reached\n",
    "states = [alpha_R_wrapped, C7_eq_wrapped]\n",
    "propa_towards_any_state = asynctraj.ConditionalTrajectoryPropagator(\n",
    "                                                    conditions=states, # list of state functions to terminate on\n",
    "                                                    engine_cls=asyncgmx.GmxEngine,\n",
    "                                                    engine_kwargs={\"mdconfig\": mdp,\n",
    "                                                                   \"gro_file\": \"gromacs/gmx_infiles/capped_alanine_dipeptide/conf.gro\",\n",
    "                                                                   \"top_file\": \"gromacs/gmx_infiles/capped_alanine_dipeptide/topol_amber99sbildn.top\",\n",
    "                                                                   \"mdrun_extra_args\": \"-ntomp 2\",  # for gmx sans (thread)MPI\n",
    "                                                                   #\"mdrun_extra_args\": \"-nt 2\",  # for gmx with (thrad)MPI\n",
    "                                                                   },\n",
    "                                                    walltime_per_part=0.01,  # walltime of 36 s per part\n",
    "                                                                    )"
   ]
  },
  {
   "cell_type": "code",
   "execution_count": 25,
   "metadata": {},
   "outputs": [],
   "source": [
    "# and propagate, this time we care what state is reached\n",
    "traj_to_first_state, first_state_reached = await propa_towards_any_state.propagate_and_concatenate(\n",
    "                                                                                        starting_configuration=tp_conf,\n",
    "                                                                                        workdir=wdirs[2],\n",
    "                                                                                        deffnm=\"towards_any_state\",\n",
    "                                                                                        tra_out=os.path.join(wdirs[2], \"traj_to_state.trr\")\n",
    "                                                                                                      )"
   ]
  },
  {
   "cell_type": "markdown",
   "metadata": {},
   "source": [
    "### Extend the existing trial until the other state is reached.\n",
    "Note that we could have also used the propagator with modified state functions to continue an existing trial until the new/modified conditions are met. When we do a continuation, the propagator will first check if any of the conditions are already met on the trial and if not extend the trajectory until one of the conditions is fullfilled (or `max_steps`/`max_frames` are reached)."
   ]
  },
  {
   "cell_type": "code",
   "execution_count": 26,
   "metadata": {},
   "outputs": [],
   "source": [
    "propa_towards_other_state = asynctraj.ConditionalTrajectoryPropagator(\n",
    "                                                    # take out the state we already reached from state functions list\n",
    "                                                    conditions=[s for i, s in enumerate(states) if i != first_state_reached],\n",
    "                                                    engine_cls=asyncgmx.GmxEngine,\n",
    "                                                    engine_kwargs={\"mdconfig\": mdp,\n",
    "                                                                   \"gro_file\": \"gromacs/gmx_infiles/capped_alanine_dipeptide/conf.gro\",\n",
    "                                                                   \"top_file\": \"gromacs/gmx_infiles/capped_alanine_dipeptide/topol_amber99sbildn.top\",\n",
    "                                                                   \"mdrun_extra_args\": \"-ntomp 2\",  # for gmx sans (thread)MPI\n",
    "                                                                   #\"mdrun_extra_args\": \"-nt 2\",  # for gmx with (thrad)MPI\n",
    "                                                                   },\n",
    "                                                    walltime_per_part=0.05,  # walltime of 180 s per part\n",
    "                                                                      )"
   ]
  },
  {
   "cell_type": "markdown",
   "metadata": {},
   "source": [
    "### This time we will do a continuation!\n",
    "Note that we need to use the same `workdir` and `deffnm` as before to make the continuation work."
   ]
  },
  {
   "cell_type": "code",
   "execution_count": 27,
   "metadata": {},
   "outputs": [],
   "source": [
    "# and propagate until the other state is reached\n",
    "traj_to_second_state, second_state_reached = await propa_towards_other_state.propagate_and_concatenate(\n",
    "                                                                                    starting_configuration=tp_conf,\n",
    "                                                                                    # NOTE: need to use the same workdir as above,\n",
    "                                                                                    #       otherwise we can not continue\n",
    "                                                                                    workdir=wdirs[2],\n",
    "                                                                                    deffnm=\"towards_any_state\",\n",
    "                                                                                    tra_out=os.path.join(wdirs[2], \"traj_to_second_state.trr\"),\n",
    "                                                                                    # NOTE: this is the important keyword here!\n",
    "                                                                                    continuation=True,        \n",
    "                                                                                                    )"
   ]
  },
  {
   "cell_type": "code",
   "execution_count": 28,
   "metadata": {},
   "outputs": [
    {
     "name": "stdout",
     "output_type": "stream",
     "text": [
      "We now created two trajectories starting from Trajectory(trajectory_file=/home/think/scratch/asyncmd/propagator_wdir2/first_frame.trr, structure_file=/home/think/scratch/asyncmd/propagator_wdir0/towards_alphaR.tpr),\n",
      "the first one going to state 0 (= PyTrajectoryFunctionWrapper(function=<function alpha_R at 0x7f0f61a5c310>, call_kwargs={'skip': 1})) is a subtrajectory of the second trajectory which goes to\n",
      "state 0 (= PyTrajectoryFunctionWrapper(function=<function alpha_R at 0x7f0f61a5c310>, call_kwargs={'skip': 1})).\n",
      "The first trajectory is 11 frames long, whereas the complete trajectory has 2940 frames.\n"
     ]
    }
   ],
   "source": [
    "print(f\"We now created two trajectories starting from {tp_conf},\")\n",
    "print(f\"the first one going to state {first_state_reached} (= {states[first_state_reached]}) is a subtrajectory of the second trajectory which goes to\")\n",
    "print(f\"state {second_state_reached} (= {states[second_state_reached]}).\")\n",
    "print(f\"The first trajectory is {len(traj_to_first_state)} frames long, whereas the complete trajectory has {len(traj_to_second_state)} frames.\")"
   ]
  },
  {
   "cell_type": "markdown",
   "metadata": {},
   "source": [
    "## Write out the continous transition from the second trajectory (which contains a transition from the state reached in the first round to the other state)"
   ]
  },
  {
   "cell_type": "code",
   "execution_count": 29,
   "metadata": {},
   "outputs": [
    {
     "name": "stdout",
     "output_type": "stream",
     "text": [
      "[ True  True  True ...  True  True False]\n"
     ]
    }
   ],
   "source": [
    "frames_in_no_state = np.logical_not((await alpha_R_wrapped(traj_to_second_state)) | (await C7_eq_wrapped(traj_to_second_state)))\n",
    "print(frames_in_no_state)"
   ]
  },
  {
   "cell_type": "markdown",
   "metadata": {},
   "source": [
    "## Use the `asyncmd.trajectory.convert.TrajectoryConcatenator` to write out a continous transition\n",
    "Here we just go 'backwards' trough the trajectory and take out the transition.\n",
    "\n",
    "However the `TrajectoryConcatenator` can do much more: It can concatenate multiple trajectory parts (taking a list for the `trajs` argument) using only a subset of the frames (as specified by the `slices` argument to the `concatenate()` method) and it can automaticaly invert the momenta for segments that are taken with a negative stride (i.e. backwards in time). Furthermore it can optionally remove double frames (i.e. frames that have the same timestep information) while doing the concatenation."
   ]
  },
  {
   "cell_type": "code",
   "execution_count": 30,
   "metadata": {},
   "outputs": [],
   "source": [
    "traj_concat = asynctraj.convert.TrajectoryConcatenator()\n",
    "\n",
    "tp_end_frame = None  # always the last one, since we stop as soon as the state is reached\n",
    "\n",
    "tp_start_frame = len(frames_in_no_state) - 2  # the last is always False\n",
    "while frames_in_no_state[tp_start_frame]:\n",
    "    tp_start_frame -= 1"
   ]
  },
  {
   "cell_type": "code",
   "execution_count": 31,
   "metadata": {},
   "outputs": [
    {
     "name": "stdout",
     "output_type": "stream",
     "text": [
      "TP start frame = 2923\n",
      "TP end frame = None\n"
     ]
    }
   ],
   "source": [
    "print(f\"TP start frame = {tp_start_frame}\")\n",
    "print(f\"TP end frame = {tp_end_frame}\")"
   ]
  },
  {
   "cell_type": "code",
   "execution_count": 32,
   "metadata": {},
   "outputs": [],
   "source": [
    "constructed_tp = traj_concat.concatenate(trajs=[traj_to_second_state],\n",
    "                                         slices=[(tp_start_frame, tp_end_frame, 1)],\n",
    "                                         tra_out=\"TP_300K_amber99sbildn.trr\",\n",
    "                                         overwrite=False)"
   ]
  },
  {
   "cell_type": "code",
   "execution_count": 33,
   "metadata": {},
   "outputs": [
    {
     "data": {
      "text/plain": [
       "Trajectory(trajectory_file=/home/think/Documents/sources/OPS/asyncmd/examples/TP_300K_amber99sbildn.trr, structure_file=/home/think/scratch/asyncmd/propagator_wdir2/towards_any_state.tpr)"
      ]
     },
     "execution_count": 33,
     "metadata": {},
     "output_type": "execute_result"
    }
   ],
   "source": [
    "constructed_tp"
   ]
  },
  {
   "cell_type": "code",
   "execution_count": 34,
   "metadata": {},
   "outputs": [
    {
     "name": "stderr",
     "output_type": "stream",
     "text": [
      "/home/think/.conda/envs/asyncmd_dev/lib/python3.10/site-packages/MDAnalysis/coordinates/XDR.py:215: UserWarning: Reload offsets from trajectory\n",
      " ctime or size or n_atoms did not match\n",
      "  warnings.warn(\"Reload offsets from trajectory\\n \"\n"
     ]
    },
    {
     "data": {
      "text/plain": [
       "17"
      ]
     },
     "execution_count": 34,
     "metadata": {},
     "output_type": "execute_result"
    }
   ],
   "source": [
    "len(constructed_tp)"
   ]
  },
  {
   "cell_type": "markdown",
   "metadata": {},
   "source": [
    "### Some basic sanity checks for the TP\n",
    "There should be one frame in every state, i.e. the first frame will be in alphaR and the last frame in C7eq (or vice versa depending on which state we reached first in the trajectory generation)."
   ]
  },
  {
   "cell_type": "code",
   "execution_count": 35,
   "metadata": {},
   "outputs": [
    {
     "data": {
      "text/plain": [
       "array([ True, False, False, False, False, False, False, False, False,\n",
       "       False, False, False, False, False, False, False, False])"
      ]
     },
     "execution_count": 35,
     "metadata": {},
     "output_type": "execute_result"
    }
   ],
   "source": [
    "await alpha_R_wrapped(constructed_tp)"
   ]
  },
  {
   "cell_type": "code",
   "execution_count": 36,
   "metadata": {},
   "outputs": [
    {
     "data": {
      "text/plain": [
       "array([False, False, False, False, False, False, False, False, False,\n",
       "       False, False, False, False, False, False, False,  True])"
      ]
     },
     "execution_count": 36,
     "metadata": {},
     "output_type": "execute_result"
    }
   ],
   "source": [
    "await C7_eq_wrapped(constructed_tp)"
   ]
  },
  {
   "cell_type": "markdown",
   "metadata": {},
   "source": [
    "### Plot the transition in the plane of $\\phi$ and $\\psi$\n",
    "Mostly for the capped alanine dipeptide afficionados, who like to see the transition in the plane of the relevant degrees of freedom :)"
   ]
  },
  {
   "cell_type": "code",
   "execution_count": 37,
   "metadata": {},
   "outputs": [],
   "source": [
    "cwd = os.path.abspath(os.getcwd())\n",
    "# chdir to the resources folder so we can import the state functions\n",
    "os.chdir(\"resources/\")\n",
    "\n",
    "from ala_state_funcs_mda import descriptor_func_psi_phi\n",
    "\n",
    "os.chdir(cwd)"
   ]
  },
  {
   "cell_type": "code",
   "execution_count": 38,
   "metadata": {},
   "outputs": [],
   "source": [
    "psi_phi_wrapped = asynctraj.PyTrajectoryFunctionWrapper(descriptor_func_psi_phi)"
   ]
  },
  {
   "cell_type": "code",
   "execution_count": 39,
   "metadata": {},
   "outputs": [],
   "source": [
    "vals = await psi_phi_wrapped(constructed_tp)"
   ]
  },
  {
   "cell_type": "code",
   "execution_count": 40,
   "metadata": {},
   "outputs": [
    {
     "data": {
      "image/png": "[encoded data removed]",
      "text/plain": [
       "<Figure size 432x288 with 1 Axes>"
      ]
     },
     "metadata": {
      "needs_background": "light"
     },
     "output_type": "display_data"
    }
   ],
   "source": [
    "fig, axs = plt.subplots()\n",
    "\n",
    "axs.plot(vals[:, 1], vals[:, 0])\n",
    "\n",
    "axs.set_xlim(-np.pi, np.pi)\n",
    "axs.set_ylim(-np.pi, np.pi)\n",
    "axs.set_xlabel(\"$\\phi$\", size=14)\n",
    "axs.set_ylabel(\"$\\psi$\", size=14)\n",
    "axs.tick_params(labelsize=12)\n",
    "axs.set_aspect(\"equal\")"
   ]
  },
  {
   "cell_type": "code",
   "execution_count": null,
   "metadata": {},
   "outputs": [],
   "source": []
  }
 ],
 "metadata": {
  "kernelspec": {
   "display_name": "asyncmd dev (py3 April 2022)",
   "language": "python",
   "name": "asyncmd_dev"
  },
  "language_info": {
   "codemirror_mode": {
    "name": "ipython",
    "version": 3
   },
   "file_extension": ".py",
   "mimetype": "text/x-python",
   "name": "python",
   "nbconvert_exporter": "python",
   "pygments_lexer": "ipython3",
   "version": "3.10.4"
  }
 },
 "nbformat": 4,
 "nbformat_minor": 4
}
