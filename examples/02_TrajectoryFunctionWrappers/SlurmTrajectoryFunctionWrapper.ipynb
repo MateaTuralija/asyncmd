{
 "cells": [
  {
   "cell_type": "markdown",
   "metadata": {
    "tags": []
   },
   "source": [
    "# `asyncmd.trajectory.SlurmTrajectoryFunctionWrapper`\n",
    "\n",
    "The `asyncmd.trajectory.SlurmTrajectoryFunctionWrapper` can wrap any executable that works on the trajectories underlying the `asyncmd.Trajectory` objects. The wrapped executable is turned into an asyncronously callable subprocess and as for the functions in the `PyTrajectoryFunctionWrapper`, the results are cached for each trajectory such that reapplying a function is cheap. `SlurmTrajectoryFunctionWrapper` will submit the execution via SLURM and thereby enables the use of multiple cores or even multiple nodes when applying the same function to multiple different trajectories at once. The executable is expected to take the path to the trajcetory and structure files on the command line, any user specified command line flags and arguments can also be passed though. Please have a look at the docstring of the `SlurmTrajectoryFunctionWrapper` for more.\n",
    "\n",
    "We will use the `SlurmTrajectoryFunctionWrapper` here to wrap the state and desscriptor functions for capped alanine dipeptide. The content of the file `ala_funcs_mda.py` is printed below. Please have a look at the functions we import to make sure you understand what they return. Beeing able to write functions that can be used on your molecular system of interest yourself is the key to use `asyncmd` to its full potential.\n",
    "\n",
    "In addition to the state functions you should have a look at the code for parsing command line arguments. This is the magic bit that converts the python function into an executable. You could of course also use any other (non-python) executable that takes trajectory files on the command line as required. Additionally the executable either needs to write out its results as numpy npz file or you must define a custom loading function that will be called with a filename as argument and is expected to return a numpy array with the results. The custom loading function option enables you to write out the results to disk in any (custom) format as long as you can find or write a function to read it."
   ]
  },
  {
   "cell_type": "markdown",
   "metadata": {},
   "source": [
    "### Imports"
   ]
  },
  {
   "cell_type": "code",
   "execution_count": 3,
   "metadata": {},
   "outputs": [],
   "source": [
    "%matplotlib inline"
   ]
  },
  {
   "cell_type": "code",
   "execution_count": 4,
   "metadata": {},
   "outputs": [
    {
     "name": "stderr",
     "output_type": "stream",
     "text": [
      "/u/hejung/conda-envs/asyncmd_dev/lib/python3.10/site-packages/tqdm/auto.py:22: TqdmWarning: IProgress not found. Please update jupyter and ipywidgets. See https://ipywidgets.readthedocs.io/en/stable/user_install.html\n",
      "  from .autonotebook import tqdm as notebook_tqdm\n"
     ]
    }
   ],
   "source": [
    "import os\n",
    "import asyncio\n",
    "import matplotlib.pyplot as plt\n",
    "import numpy as np\n",
    "#import MDAnalysis as mda"
   ]
  },
  {
   "cell_type": "code",
   "execution_count": 5,
   "metadata": {},
   "outputs": [],
   "source": [
    "import asyncmd\n",
    "#from asyncmd import gromacs as asyncgmx\n",
    "from asyncmd import trajectory as asynctraj"
   ]
  },
  {
   "cell_type": "markdown",
   "metadata": {},
   "source": [
    "### Have a look at the state and descriptor functions"
   ]
  },
  {
   "cell_type": "code",
   "execution_count": 6,
   "metadata": {},
   "outputs": [
    {
     "data": {
      "text/html": [
       "<style type=\"text/css\">pre { line-height: 125%; }\n",
       "td.linenos .normal { color: inherit; background-color: transparent; padding-left: 5px; padding-right: 5px; }\n",
       "span.linenos { color: inherit; background-color: transparent; padding-left: 5px; padding-right: 5px; }\n",
       "td.linenos .special { color: #000000; background-color: #ffffc0; padding-left: 5px; padding-right: 5px; }\n",
       "span.linenos.special { color: #000000; background-color: #ffffc0; padding-left: 5px; padding-right: 5px; }\n",
       ".highlight .hll { background-color: #ffffcc }\n",
       ".highlight { background: #f8f8f8; }\n",
       ".highlight .c { color: #3D7B7B; font-style: italic } /* Comment */\n",
       ".highlight .err { border: 1px solid #FF0000 } /* Error */\n",
       ".highlight .k { color: #008000; font-weight: bold } /* Keyword */\n",
       ".highlight .o { color: #666666 } /* Operator */\n",
       ".highlight .ch { color: #3D7B7B; font-style: italic } /* Comment.Hashbang */\n",
       ".highlight .cm { color: #3D7B7B; font-style: italic } /* Comment.Multiline */\n",
       ".highlight .cp { color: #9C6500 } /* Comment.Preproc */\n",
       ".highlight .cpf { color: #3D7B7B; font-style: italic } /* Comment.PreprocFile */\n",
       ".highlight .c1 { color: #3D7B7B; font-style: italic } /* Comment.Single */\n",
       ".highlight .cs { color: #3D7B7B; font-style: italic } /* Comment.Special */\n",
       ".highlight .gd { color: #A00000 } /* Generic.Deleted */\n",
       ".highlight .ge { font-style: italic } /* Generic.Emph */\n",
       ".highlight .gr { color: #E40000 } /* Generic.Error */\n",
       ".highlight .gh { color: #000080; font-weight: bold } /* Generic.Heading */\n",
       ".highlight .gi { color: #008400 } /* Generic.Inserted */\n",
       ".highlight .go { color: #717171 } /* Generic.Output */\n",
       ".highlight .gp { color: #000080; font-weight: bold } /* Generic.Prompt */\n",
       ".highlight .gs { font-weight: bold } /* Generic.Strong */\n",
       ".highlight .gu { color: #800080; font-weight: bold } /* Generic.Subheading */\n",
       ".highlight .gt { color: #0044DD } /* Generic.Traceback */\n",
       ".highlight .kc { color: #008000; font-weight: bold } /* Keyword.Constant */\n",
       ".highlight .kd { color: #008000; font-weight: bold } /* Keyword.Declaration */\n",
       ".highlight .kn { color: #008000; font-weight: bold } /* Keyword.Namespace */\n",
       ".highlight .kp { color: #008000 } /* Keyword.Pseudo */\n",
       ".highlight .kr { color: #008000; font-weight: bold } /* Keyword.Reserved */\n",
       ".highlight .kt { color: #B00040 } /* Keyword.Type */\n",
       ".highlight .m { color: #666666 } /* Literal.Number */\n",
       ".highlight .s { color: #BA2121 } /* Literal.String */\n",
       ".highlight .na { color: #687822 } /* Name.Attribute */\n",
       ".highlight .nb { color: #008000 } /* Name.Builtin */\n",
       ".highlight .nc { color: #0000FF; font-weight: bold } /* Name.Class */\n",
       ".highlight .no { color: #880000 } /* Name.Constant */\n",
       ".highlight .nd { color: #AA22FF } /* Name.Decorator */\n",
       ".highlight .ni { color: #717171; font-weight: bold } /* Name.Entity */\n",
       ".highlight .ne { color: #CB3F38; font-weight: bold } /* Name.Exception */\n",
       ".highlight .nf { color: #0000FF } /* Name.Function */\n",
       ".highlight .nl { color: #767600 } /* Name.Label */\n",
       ".highlight .nn { color: #0000FF; font-weight: bold } /* Name.Namespace */\n",
       ".highlight .nt { color: #008000; font-weight: bold } /* Name.Tag */\n",
       ".highlight .nv { color: #19177C } /* Name.Variable */\n",
       ".highlight .ow { color: #AA22FF; font-weight: bold } /* Operator.Word */\n",
       ".highlight .w { color: #bbbbbb } /* Text.Whitespace */\n",
       ".highlight .mb { color: #666666 } /* Literal.Number.Bin */\n",
       ".highlight .mf { color: #666666 } /* Literal.Number.Float */\n",
       ".highlight .mh { color: #666666 } /* Literal.Number.Hex */\n",
       ".highlight .mi { color: #666666 } /* Literal.Number.Integer */\n",
       ".highlight .mo { color: #666666 } /* Literal.Number.Oct */\n",
       ".highlight .sa { color: #BA2121 } /* Literal.String.Affix */\n",
       ".highlight .sb { color: #BA2121 } /* Literal.String.Backtick */\n",
       ".highlight .sc { color: #BA2121 } /* Literal.String.Char */\n",
       ".highlight .dl { color: #BA2121 } /* Literal.String.Delimiter */\n",
       ".highlight .sd { color: #BA2121; font-style: italic } /* Literal.String.Doc */\n",
       ".highlight .s2 { color: #BA2121 } /* Literal.String.Double */\n",
       ".highlight .se { color: #AA5D1F; font-weight: bold } /* Literal.String.Escape */\n",
       ".highlight .sh { color: #BA2121 } /* Literal.String.Heredoc */\n",
       ".highlight .si { color: #A45A77; font-weight: bold } /* Literal.String.Interpol */\n",
       ".highlight .sx { color: #008000 } /* Literal.String.Other */\n",
       ".highlight .sr { color: #A45A77 } /* Literal.String.Regex */\n",
       ".highlight .s1 { color: #BA2121 } /* Literal.String.Single */\n",
       ".highlight .ss { color: #19177C } /* Literal.String.Symbol */\n",
       ".highlight .bp { color: #008000 } /* Name.Builtin.Pseudo */\n",
       ".highlight .fm { color: #0000FF } /* Name.Function.Magic */\n",
       ".highlight .vc { color: #19177C } /* Name.Variable.Class */\n",
       ".highlight .vg { color: #19177C } /* Name.Variable.Global */\n",
       ".highlight .vi { color: #19177C } /* Name.Variable.Instance */\n",
       ".highlight .vm { color: #19177C } /* Name.Variable.Magic */\n",
       ".highlight .il { color: #666666 } /* Literal.Number.Integer.Long */</style><div class=\"highlight\"><pre><span></span><span class=\"ch\">#!/usr/bin/env python3</span>\n",
       "<span class=\"sd\">&quot;&quot;&quot;</span>\n",
       "<span class=\"sd\">State functions for alanine dipetide.</span>\n",
       "\n",
       "<span class=\"sd\">Needs to be separate module/import to be able to use multiprocessing from the notebooks.</span>\n",
       "<span class=\"sd\">&quot;&quot;&quot;</span>\n",
       "<span class=\"kn\">import</span> <span class=\"nn\">argparse</span>\n",
       "<span class=\"kn\">import</span> <span class=\"nn\">numpy</span> <span class=\"k\">as</span> <span class=\"nn\">np</span>\n",
       "<span class=\"kn\">import</span> <span class=\"nn\">MDAnalysis</span> <span class=\"k\">as</span> <span class=\"nn\">mda</span>\n",
       "<span class=\"kn\">from</span> <span class=\"nn\">MDAnalysis.lib.distances</span> <span class=\"kn\">import</span> <span class=\"n\">calc_bonds</span><span class=\"p\">,</span> <span class=\"n\">calc_angles</span><span class=\"p\">,</span> <span class=\"n\">calc_dihedrals</span>\n",
       "\n",
       "\n",
       "<span class=\"k\">def</span> <span class=\"nf\">alpha_R</span><span class=\"p\">(</span><span class=\"n\">traj</span><span class=\"p\">,</span> <span class=\"n\">skip</span><span class=\"o\">=</span><span class=\"mi\">1</span><span class=\"p\">):</span>\n",
       "    <span class=\"c1\"># NOTE: use refresh_offsets=True such that we do not run into any trouble when</span>\n",
       "    <span class=\"c1\">#       opening the same traj at the same time from two different processes/universes</span>\n",
       "    <span class=\"c1\">#       to avoid reading a possibly corrupted/in the process of beeing created offsets</span>\n",
       "    <span class=\"c1\">#       file we just rebuild all offsets</span>\n",
       "    <span class=\"n\">u</span> <span class=\"o\">=</span> <span class=\"n\">mda</span><span class=\"o\">.</span><span class=\"n\">Universe</span><span class=\"p\">(</span><span class=\"n\">traj</span><span class=\"o\">.</span><span class=\"n\">structure_file</span><span class=\"p\">,</span> <span class=\"o\">*</span><span class=\"n\">traj</span><span class=\"o\">.</span><span class=\"n\">trajectory_files</span><span class=\"p\">,</span>\n",
       "                     <span class=\"n\">refresh_offsets</span><span class=\"o\">=</span><span class=\"kc\">True</span><span class=\"p\">,</span> <span class=\"n\">tpr_resid_from_one</span><span class=\"o\">=</span><span class=\"kc\">True</span><span class=\"p\">)</span>\n",
       "    <span class=\"n\">psi_ag</span> <span class=\"o\">=</span> <span class=\"n\">u</span><span class=\"o\">.</span><span class=\"n\">select_atoms</span><span class=\"p\">(</span><span class=\"s2\">&quot;resname ALA and name N&quot;</span><span class=\"p\">)</span>\n",
       "    <span class=\"n\">psi_ag</span> <span class=\"o\">+=</span> <span class=\"n\">u</span><span class=\"o\">.</span><span class=\"n\">select_atoms</span><span class=\"p\">(</span><span class=\"s2\">&quot;resname ALA and name CA&quot;</span><span class=\"p\">)</span>\n",
       "    <span class=\"n\">psi_ag</span> <span class=\"o\">+=</span> <span class=\"n\">u</span><span class=\"o\">.</span><span class=\"n\">select_atoms</span><span class=\"p\">(</span><span class=\"s2\">&quot;resname ALA and name C&quot;</span><span class=\"p\">)</span>\n",
       "    <span class=\"n\">psi_ag</span> <span class=\"o\">+=</span> <span class=\"n\">u</span><span class=\"o\">.</span><span class=\"n\">select_atoms</span><span class=\"p\">(</span><span class=\"s2\">&quot;resname NME and name N&quot;</span><span class=\"p\">)</span>\n",
       "    <span class=\"n\">phi_ag</span> <span class=\"o\">=</span> <span class=\"n\">u</span><span class=\"o\">.</span><span class=\"n\">select_atoms</span><span class=\"p\">(</span><span class=\"s2\">&quot;resname ACE and name C&quot;</span><span class=\"p\">)</span>\n",
       "    <span class=\"n\">phi_ag</span> <span class=\"o\">+=</span> <span class=\"n\">u</span><span class=\"o\">.</span><span class=\"n\">select_atoms</span><span class=\"p\">(</span><span class=\"s2\">&quot;resname ALA and name N&quot;</span><span class=\"p\">)</span>\n",
       "    <span class=\"n\">phi_ag</span> <span class=\"o\">+=</span> <span class=\"n\">u</span><span class=\"o\">.</span><span class=\"n\">select_atoms</span><span class=\"p\">(</span><span class=\"s2\">&quot;resname ALA and name CA&quot;</span><span class=\"p\">)</span>\n",
       "    <span class=\"n\">phi_ag</span> <span class=\"o\">+=</span> <span class=\"n\">u</span><span class=\"o\">.</span><span class=\"n\">select_atoms</span><span class=\"p\">(</span><span class=\"s2\">&quot;resname ALA and name C&quot;</span><span class=\"p\">)</span>\n",
       "    <span class=\"c1\"># empty arrays to fill</span>\n",
       "    <span class=\"n\">state</span> <span class=\"o\">=</span> <span class=\"n\">np</span><span class=\"o\">.</span><span class=\"n\">full</span><span class=\"p\">((</span><span class=\"nb\">len</span><span class=\"p\">(</span><span class=\"n\">u</span><span class=\"o\">.</span><span class=\"n\">trajectory</span><span class=\"p\">[::</span><span class=\"n\">skip</span><span class=\"p\">]),),</span> <span class=\"kc\">False</span><span class=\"p\">,</span> <span class=\"n\">dtype</span><span class=\"o\">=</span><span class=\"nb\">bool</span><span class=\"p\">)</span>\n",
       "    <span class=\"n\">phi</span> <span class=\"o\">=</span> <span class=\"n\">np</span><span class=\"o\">.</span><span class=\"n\">empty</span><span class=\"p\">((</span><span class=\"nb\">len</span><span class=\"p\">(</span><span class=\"n\">u</span><span class=\"o\">.</span><span class=\"n\">trajectory</span><span class=\"p\">[::</span><span class=\"n\">skip</span><span class=\"p\">]),),</span> <span class=\"n\">dtype</span><span class=\"o\">=</span><span class=\"n\">np</span><span class=\"o\">.</span><span class=\"n\">float64</span><span class=\"p\">)</span>\n",
       "    <span class=\"n\">psi</span> <span class=\"o\">=</span> <span class=\"n\">np</span><span class=\"o\">.</span><span class=\"n\">empty</span><span class=\"p\">((</span><span class=\"nb\">len</span><span class=\"p\">(</span><span class=\"n\">u</span><span class=\"o\">.</span><span class=\"n\">trajectory</span><span class=\"p\">[::</span><span class=\"n\">skip</span><span class=\"p\">]),),</span> <span class=\"n\">dtype</span><span class=\"o\">=</span><span class=\"n\">np</span><span class=\"o\">.</span><span class=\"n\">float64</span><span class=\"p\">)</span>\n",
       "    <span class=\"k\">for</span> <span class=\"n\">f</span><span class=\"p\">,</span> <span class=\"n\">ts</span> <span class=\"ow\">in</span> <span class=\"nb\">enumerate</span><span class=\"p\">(</span><span class=\"n\">u</span><span class=\"o\">.</span><span class=\"n\">trajectory</span><span class=\"p\">[::</span><span class=\"n\">skip</span><span class=\"p\">]):</span>\n",
       "        <span class=\"n\">phi</span><span class=\"p\">[</span><span class=\"n\">f</span><span class=\"p\">]</span> <span class=\"o\">=</span> <span class=\"n\">calc_dihedrals</span><span class=\"p\">(</span><span class=\"o\">*</span><span class=\"p\">(</span><span class=\"n\">at</span><span class=\"o\">.</span><span class=\"n\">position</span> <span class=\"k\">for</span> <span class=\"n\">at</span> <span class=\"ow\">in</span> <span class=\"n\">phi_ag</span><span class=\"p\">),</span> <span class=\"n\">box</span><span class=\"o\">=</span><span class=\"n\">ts</span><span class=\"o\">.</span><span class=\"n\">dimensions</span><span class=\"p\">)</span>\n",
       "        <span class=\"n\">psi</span><span class=\"p\">[</span><span class=\"n\">f</span><span class=\"p\">]</span> <span class=\"o\">=</span> <span class=\"n\">calc_dihedrals</span><span class=\"p\">(</span><span class=\"o\">*</span><span class=\"p\">(</span><span class=\"n\">at</span><span class=\"o\">.</span><span class=\"n\">position</span> <span class=\"k\">for</span> <span class=\"n\">at</span> <span class=\"ow\">in</span> <span class=\"n\">psi_ag</span><span class=\"p\">),</span> <span class=\"n\">box</span><span class=\"o\">=</span><span class=\"n\">ts</span><span class=\"o\">.</span><span class=\"n\">dimensions</span><span class=\"p\">)</span>\n",
       "    <span class=\"c1\"># phi: -pi -&gt; 0</span>\n",
       "    <span class=\"c1\"># psi: &gt; -50 but smaller 30 degree</span>\n",
       "    <span class=\"n\">deg</span> <span class=\"o\">=</span> <span class=\"mi\">180</span><span class=\"o\">/</span><span class=\"n\">np</span><span class=\"o\">.</span><span class=\"n\">pi</span>\n",
       "    <span class=\"n\">state</span><span class=\"p\">[(</span><span class=\"n\">phi</span> <span class=\"o\">&lt;=</span> <span class=\"mi\">0</span><span class=\"p\">)</span> <span class=\"o\">&amp;</span> <span class=\"p\">(</span><span class=\"o\">-</span><span class=\"mi\">50</span><span class=\"o\">/</span><span class=\"n\">deg</span> <span class=\"o\">&lt;=</span> <span class=\"n\">psi</span><span class=\"p\">)</span> <span class=\"o\">&amp;</span> <span class=\"p\">(</span><span class=\"n\">psi</span> <span class=\"o\">&lt;=</span> <span class=\"mi\">30</span><span class=\"o\">/</span><span class=\"n\">deg</span><span class=\"p\">)]</span> <span class=\"o\">=</span> <span class=\"kc\">True</span>\n",
       "    <span class=\"k\">return</span> <span class=\"n\">state</span>\n",
       "\n",
       "\n",
       "<span class=\"k\">def</span> <span class=\"nf\">C7_eq</span><span class=\"p\">(</span><span class=\"n\">traj</span><span class=\"p\">,</span> <span class=\"n\">skip</span><span class=\"o\">=</span><span class=\"mi\">1</span><span class=\"p\">):</span>\n",
       "    <span class=\"n\">u</span> <span class=\"o\">=</span> <span class=\"n\">mda</span><span class=\"o\">.</span><span class=\"n\">Universe</span><span class=\"p\">(</span><span class=\"n\">traj</span><span class=\"o\">.</span><span class=\"n\">structure_file</span><span class=\"p\">,</span> <span class=\"o\">*</span><span class=\"n\">traj</span><span class=\"o\">.</span><span class=\"n\">trajectory_files</span><span class=\"p\">,</span>\n",
       "                     <span class=\"n\">refresh_offsets</span><span class=\"o\">=</span><span class=\"kc\">True</span><span class=\"p\">,</span> <span class=\"n\">tpr_resid_from_one</span><span class=\"o\">=</span><span class=\"kc\">True</span><span class=\"p\">)</span>\n",
       "    <span class=\"n\">psi_ag</span> <span class=\"o\">=</span> <span class=\"n\">u</span><span class=\"o\">.</span><span class=\"n\">select_atoms</span><span class=\"p\">(</span><span class=\"s2\">&quot;resname ALA and name N&quot;</span><span class=\"p\">)</span>\n",
       "    <span class=\"n\">psi_ag</span> <span class=\"o\">+=</span> <span class=\"n\">u</span><span class=\"o\">.</span><span class=\"n\">select_atoms</span><span class=\"p\">(</span><span class=\"s2\">&quot;resname ALA and name CA&quot;</span><span class=\"p\">)</span>\n",
       "    <span class=\"n\">psi_ag</span> <span class=\"o\">+=</span> <span class=\"n\">u</span><span class=\"o\">.</span><span class=\"n\">select_atoms</span><span class=\"p\">(</span><span class=\"s2\">&quot;resname ALA and name C&quot;</span><span class=\"p\">)</span>\n",
       "    <span class=\"n\">psi_ag</span> <span class=\"o\">+=</span> <span class=\"n\">u</span><span class=\"o\">.</span><span class=\"n\">select_atoms</span><span class=\"p\">(</span><span class=\"s2\">&quot;resname NME and name N&quot;</span><span class=\"p\">)</span>\n",
       "    <span class=\"n\">phi_ag</span> <span class=\"o\">=</span> <span class=\"n\">u</span><span class=\"o\">.</span><span class=\"n\">select_atoms</span><span class=\"p\">(</span><span class=\"s2\">&quot;resname ACE and name C&quot;</span><span class=\"p\">)</span>\n",
       "    <span class=\"n\">phi_ag</span> <span class=\"o\">+=</span> <span class=\"n\">u</span><span class=\"o\">.</span><span class=\"n\">select_atoms</span><span class=\"p\">(</span><span class=\"s2\">&quot;resname ALA and name N&quot;</span><span class=\"p\">)</span>\n",
       "    <span class=\"n\">phi_ag</span> <span class=\"o\">+=</span> <span class=\"n\">u</span><span class=\"o\">.</span><span class=\"n\">select_atoms</span><span class=\"p\">(</span><span class=\"s2\">&quot;resname ALA and name CA&quot;</span><span class=\"p\">)</span>\n",
       "    <span class=\"n\">phi_ag</span> <span class=\"o\">+=</span> <span class=\"n\">u</span><span class=\"o\">.</span><span class=\"n\">select_atoms</span><span class=\"p\">(</span><span class=\"s2\">&quot;resname ALA and name C&quot;</span><span class=\"p\">)</span>\n",
       "    <span class=\"c1\"># empty arrays to fill</span>\n",
       "    <span class=\"n\">state</span> <span class=\"o\">=</span> <span class=\"n\">np</span><span class=\"o\">.</span><span class=\"n\">full</span><span class=\"p\">((</span><span class=\"nb\">len</span><span class=\"p\">(</span><span class=\"n\">u</span><span class=\"o\">.</span><span class=\"n\">trajectory</span><span class=\"p\">[::</span><span class=\"n\">skip</span><span class=\"p\">]),),</span> <span class=\"kc\">False</span><span class=\"p\">,</span> <span class=\"n\">dtype</span><span class=\"o\">=</span><span class=\"nb\">bool</span><span class=\"p\">)</span>\n",
       "    <span class=\"n\">phi</span> <span class=\"o\">=</span> <span class=\"n\">np</span><span class=\"o\">.</span><span class=\"n\">empty</span><span class=\"p\">((</span><span class=\"nb\">len</span><span class=\"p\">(</span><span class=\"n\">u</span><span class=\"o\">.</span><span class=\"n\">trajectory</span><span class=\"p\">[::</span><span class=\"n\">skip</span><span class=\"p\">]),),</span> <span class=\"n\">dtype</span><span class=\"o\">=</span><span class=\"n\">np</span><span class=\"o\">.</span><span class=\"n\">float64</span><span class=\"p\">)</span>\n",
       "    <span class=\"n\">psi</span> <span class=\"o\">=</span> <span class=\"n\">np</span><span class=\"o\">.</span><span class=\"n\">empty</span><span class=\"p\">((</span><span class=\"nb\">len</span><span class=\"p\">(</span><span class=\"n\">u</span><span class=\"o\">.</span><span class=\"n\">trajectory</span><span class=\"p\">[::</span><span class=\"n\">skip</span><span class=\"p\">]),),</span> <span class=\"n\">dtype</span><span class=\"o\">=</span><span class=\"n\">np</span><span class=\"o\">.</span><span class=\"n\">float64</span><span class=\"p\">)</span>\n",
       "    <span class=\"k\">for</span> <span class=\"n\">f</span><span class=\"p\">,</span> <span class=\"n\">ts</span> <span class=\"ow\">in</span> <span class=\"nb\">enumerate</span><span class=\"p\">(</span><span class=\"n\">u</span><span class=\"o\">.</span><span class=\"n\">trajectory</span><span class=\"p\">[::</span><span class=\"n\">skip</span><span class=\"p\">]):</span>\n",
       "        <span class=\"n\">phi</span><span class=\"p\">[</span><span class=\"n\">f</span><span class=\"p\">]</span> <span class=\"o\">=</span> <span class=\"n\">calc_dihedrals</span><span class=\"p\">(</span><span class=\"o\">*</span><span class=\"p\">(</span><span class=\"n\">at</span><span class=\"o\">.</span><span class=\"n\">position</span> <span class=\"k\">for</span> <span class=\"n\">at</span> <span class=\"ow\">in</span> <span class=\"n\">phi_ag</span><span class=\"p\">),</span> <span class=\"n\">box</span><span class=\"o\">=</span><span class=\"n\">ts</span><span class=\"o\">.</span><span class=\"n\">dimensions</span><span class=\"p\">)</span>\n",
       "        <span class=\"n\">psi</span><span class=\"p\">[</span><span class=\"n\">f</span><span class=\"p\">]</span> <span class=\"o\">=</span> <span class=\"n\">calc_dihedrals</span><span class=\"p\">(</span><span class=\"o\">*</span><span class=\"p\">(</span><span class=\"n\">at</span><span class=\"o\">.</span><span class=\"n\">position</span> <span class=\"k\">for</span> <span class=\"n\">at</span> <span class=\"ow\">in</span> <span class=\"n\">psi_ag</span><span class=\"p\">),</span> <span class=\"n\">box</span><span class=\"o\">=</span><span class=\"n\">ts</span><span class=\"o\">.</span><span class=\"n\">dimensions</span><span class=\"p\">)</span>\n",
       "    <span class=\"c1\"># phi: -pi -&gt; 0</span>\n",
       "    <span class=\"c1\"># psi: 120 -&gt; 200 degree</span>\n",
       "    <span class=\"n\">deg</span> <span class=\"o\">=</span> <span class=\"mi\">180</span><span class=\"o\">/</span><span class=\"n\">np</span><span class=\"o\">.</span><span class=\"n\">pi</span>\n",
       "    <span class=\"n\">state</span><span class=\"p\">[(</span><span class=\"n\">phi</span> <span class=\"o\">&lt;=</span> <span class=\"mi\">0</span><span class=\"p\">)</span> <span class=\"o\">&amp;</span> <span class=\"p\">((</span><span class=\"mi\">120</span><span class=\"o\">/</span><span class=\"n\">deg</span> <span class=\"o\">&lt;=</span> <span class=\"n\">psi</span><span class=\"p\">)</span> <span class=\"o\">|</span> <span class=\"p\">(</span><span class=\"o\">-</span><span class=\"mi\">160</span><span class=\"o\">/</span><span class=\"n\">deg</span> <span class=\"o\">&gt;=</span> <span class=\"n\">psi</span><span class=\"p\">))]</span> <span class=\"o\">=</span> <span class=\"kc\">True</span>\n",
       "    <span class=\"k\">return</span> <span class=\"n\">state</span>\n",
       "\n",
       "\n",
       "<span class=\"k\">def</span> <span class=\"nf\">generate_atomgroups_for_ic</span><span class=\"p\">(</span><span class=\"n\">molecule</span><span class=\"p\">):</span>\n",
       "    <span class=\"sd\">&quot;&quot;&quot;</span>\n",
       "<span class=\"sd\">    Generate atomgroups describing all bonds, angles and dihedrals of given molecule.</span>\n",
       "\n",
       "<span class=\"sd\">    Parameters:</span>\n",
       "<span class=\"sd\">    -----------</span>\n",
       "<span class=\"sd\">    molecule - `MDAnalysis.AtomGroup` (preferably) of one continous molecule</span>\n",
       "\n",
       "<span class=\"sd\">    Returns:</span>\n",
       "<span class=\"sd\">    --------</span>\n",
       "<span class=\"sd\">    bonds, angles, dihedrals - lists of `MDAnalysis.AtomGroup` of len 2, 3 and 4</span>\n",
       "<span class=\"sd\">    &quot;&quot;&quot;</span>\n",
       "    <span class=\"n\">bonds</span> <span class=\"o\">=</span> <span class=\"p\">[</span><span class=\"n\">mda</span><span class=\"o\">.</span><span class=\"n\">AtomGroup</span><span class=\"p\">([],</span> <span class=\"n\">molecule</span><span class=\"o\">.</span><span class=\"n\">universe</span><span class=\"p\">)</span> <span class=\"k\">for</span> <span class=\"n\">_</span> <span class=\"ow\">in</span> <span class=\"nb\">range</span><span class=\"p\">(</span><span class=\"mi\">2</span><span class=\"p\">)]</span>\n",
       "    <span class=\"n\">angles</span> <span class=\"o\">=</span> <span class=\"p\">[</span><span class=\"n\">mda</span><span class=\"o\">.</span><span class=\"n\">AtomGroup</span><span class=\"p\">([],</span> <span class=\"n\">molecule</span><span class=\"o\">.</span><span class=\"n\">universe</span><span class=\"p\">)</span> <span class=\"k\">for</span> <span class=\"n\">_</span> <span class=\"ow\">in</span> <span class=\"nb\">range</span><span class=\"p\">(</span><span class=\"mi\">3</span><span class=\"p\">)]</span>\n",
       "    <span class=\"n\">dihedrals</span> <span class=\"o\">=</span> <span class=\"p\">[</span><span class=\"n\">mda</span><span class=\"o\">.</span><span class=\"n\">AtomGroup</span><span class=\"p\">([],</span> <span class=\"n\">molecule</span><span class=\"o\">.</span><span class=\"n\">universe</span><span class=\"p\">)</span> <span class=\"k\">for</span> <span class=\"n\">_</span> <span class=\"ow\">in</span> <span class=\"nb\">range</span><span class=\"p\">(</span><span class=\"mi\">4</span><span class=\"p\">)]</span>\n",
       "    <span class=\"k\">for</span> <span class=\"n\">b</span> <span class=\"ow\">in</span> <span class=\"n\">molecule</span><span class=\"o\">.</span><span class=\"n\">bonds</span><span class=\"p\">:</span>\n",
       "        <span class=\"k\">for</span> <span class=\"n\">i</span><span class=\"p\">,</span> <span class=\"n\">at</span> <span class=\"ow\">in</span> <span class=\"nb\">enumerate</span><span class=\"p\">(</span><span class=\"n\">b</span><span class=\"o\">.</span><span class=\"n\">atoms</span><span class=\"p\">):</span>\n",
       "            <span class=\"n\">bonds</span><span class=\"p\">[</span><span class=\"n\">i</span><span class=\"p\">]</span> <span class=\"o\">+=</span> <span class=\"n\">at</span>\n",
       "    <span class=\"k\">for</span> <span class=\"n\">a</span> <span class=\"ow\">in</span> <span class=\"n\">molecule</span><span class=\"o\">.</span><span class=\"n\">angles</span><span class=\"p\">:</span>\n",
       "        <span class=\"k\">for</span> <span class=\"n\">i</span><span class=\"p\">,</span> <span class=\"n\">at</span> <span class=\"ow\">in</span> <span class=\"nb\">enumerate</span><span class=\"p\">(</span><span class=\"n\">a</span><span class=\"o\">.</span><span class=\"n\">atoms</span><span class=\"p\">):</span>\n",
       "            <span class=\"n\">angles</span><span class=\"p\">[</span><span class=\"n\">i</span><span class=\"p\">]</span> <span class=\"o\">+=</span> <span class=\"n\">at</span>\n",
       "    <span class=\"k\">for</span> <span class=\"n\">d</span> <span class=\"ow\">in</span> <span class=\"n\">molecule</span><span class=\"o\">.</span><span class=\"n\">dihedrals</span><span class=\"p\">:</span>\n",
       "        <span class=\"k\">for</span> <span class=\"n\">i</span><span class=\"p\">,</span> <span class=\"n\">at</span> <span class=\"ow\">in</span> <span class=\"nb\">enumerate</span><span class=\"p\">(</span><span class=\"n\">d</span><span class=\"o\">.</span><span class=\"n\">atoms</span><span class=\"p\">):</span>\n",
       "            <span class=\"n\">dihedrals</span><span class=\"p\">[</span><span class=\"n\">i</span><span class=\"p\">]</span> <span class=\"o\">+=</span> <span class=\"n\">at</span>\n",
       "\n",
       "    <span class=\"k\">return</span> <span class=\"n\">bonds</span><span class=\"p\">,</span> <span class=\"n\">angles</span><span class=\"p\">,</span> <span class=\"n\">dihedrals</span>\n",
       "\n",
       "\n",
       "<span class=\"k\">def</span> <span class=\"nf\">descriptor_func_ic</span><span class=\"p\">(</span><span class=\"n\">traj</span><span class=\"p\">,</span> <span class=\"n\">molecule_selection</span><span class=\"o\">=</span><span class=\"s2\">&quot;protein&quot;</span><span class=\"p\">,</span> <span class=\"n\">skip</span><span class=\"o\">=</span><span class=\"mi\">1</span><span class=\"p\">,</span> <span class=\"n\">use_SI</span><span class=\"o\">=</span><span class=\"kc\">True</span><span class=\"p\">):</span>\n",
       "    <span class=\"sd\">&quot;&quot;&quot;Calculate symmetry invariant internal coordinate representation for molecule_selection.&quot;&quot;&quot;</span>\n",
       "    <span class=\"n\">u</span> <span class=\"o\">=</span> <span class=\"n\">mda</span><span class=\"o\">.</span><span class=\"n\">Universe</span><span class=\"p\">(</span><span class=\"n\">traj</span><span class=\"o\">.</span><span class=\"n\">structure_file</span><span class=\"p\">,</span> <span class=\"o\">*</span><span class=\"n\">traj</span><span class=\"o\">.</span><span class=\"n\">trajectory_files</span><span class=\"p\">,</span>\n",
       "                     <span class=\"n\">refresh_offsets</span><span class=\"o\">=</span><span class=\"kc\">True</span><span class=\"p\">,</span> <span class=\"n\">tpr_resid_from_one</span><span class=\"o\">=</span><span class=\"kc\">True</span><span class=\"p\">)</span>\n",
       "    <span class=\"n\">molecule</span> <span class=\"o\">=</span> <span class=\"n\">u</span><span class=\"o\">.</span><span class=\"n\">select_atoms</span><span class=\"p\">(</span><span class=\"n\">molecule_selection</span><span class=\"p\">)</span>\n",
       "    <span class=\"n\">bonds</span><span class=\"p\">,</span> <span class=\"n\">angles</span><span class=\"p\">,</span> <span class=\"n\">dihedrals</span> <span class=\"o\">=</span> <span class=\"n\">generate_atomgroups_for_ic</span><span class=\"p\">(</span><span class=\"n\">molecule</span><span class=\"p\">)</span>\n",
       "    <span class=\"n\">bond_vals</span> <span class=\"o\">=</span> <span class=\"n\">np</span><span class=\"o\">.</span><span class=\"n\">empty</span><span class=\"p\">((</span><span class=\"nb\">len</span><span class=\"p\">(</span><span class=\"n\">u</span><span class=\"o\">.</span><span class=\"n\">trajectory</span><span class=\"p\">[::</span><span class=\"n\">skip</span><span class=\"p\">]),</span> <span class=\"nb\">len</span><span class=\"p\">(</span><span class=\"n\">bonds</span><span class=\"p\">[</span><span class=\"mi\">0</span><span class=\"p\">])),</span> <span class=\"n\">dtype</span><span class=\"o\">=</span><span class=\"n\">np</span><span class=\"o\">.</span><span class=\"n\">float64</span><span class=\"p\">)</span>\n",
       "    <span class=\"n\">angle_vals</span> <span class=\"o\">=</span> <span class=\"n\">np</span><span class=\"o\">.</span><span class=\"n\">empty</span><span class=\"p\">((</span><span class=\"nb\">len</span><span class=\"p\">(</span><span class=\"n\">u</span><span class=\"o\">.</span><span class=\"n\">trajectory</span><span class=\"p\">[::</span><span class=\"n\">skip</span><span class=\"p\">]),</span> <span class=\"nb\">len</span><span class=\"p\">(</span><span class=\"n\">angles</span><span class=\"p\">[</span><span class=\"mi\">0</span><span class=\"p\">])),</span> <span class=\"n\">dtype</span><span class=\"o\">=</span><span class=\"n\">np</span><span class=\"o\">.</span><span class=\"n\">float64</span><span class=\"p\">)</span>\n",
       "    <span class=\"n\">dihedral_vals</span> <span class=\"o\">=</span> <span class=\"n\">np</span><span class=\"o\">.</span><span class=\"n\">empty</span><span class=\"p\">((</span><span class=\"nb\">len</span><span class=\"p\">(</span><span class=\"n\">u</span><span class=\"o\">.</span><span class=\"n\">trajectory</span><span class=\"p\">[::</span><span class=\"n\">skip</span><span class=\"p\">]),</span> <span class=\"nb\">len</span><span class=\"p\">(</span><span class=\"n\">dihedrals</span><span class=\"p\">[</span><span class=\"mi\">0</span><span class=\"p\">])),</span> <span class=\"n\">dtype</span><span class=\"o\">=</span><span class=\"n\">np</span><span class=\"o\">.</span><span class=\"n\">float64</span><span class=\"p\">)</span>\n",
       "    <span class=\"k\">for</span> <span class=\"n\">f</span><span class=\"p\">,</span> <span class=\"n\">ts</span> <span class=\"ow\">in</span> <span class=\"nb\">enumerate</span><span class=\"p\">(</span><span class=\"n\">u</span><span class=\"o\">.</span><span class=\"n\">trajectory</span><span class=\"p\">):</span>\n",
       "        <span class=\"n\">calc_bonds</span><span class=\"p\">(</span><span class=\"n\">bonds</span><span class=\"p\">[</span><span class=\"mi\">0</span><span class=\"p\">]</span><span class=\"o\">.</span><span class=\"n\">positions</span><span class=\"p\">,</span> <span class=\"n\">bonds</span><span class=\"p\">[</span><span class=\"mi\">1</span><span class=\"p\">]</span><span class=\"o\">.</span><span class=\"n\">positions</span><span class=\"p\">,</span> <span class=\"n\">box</span><span class=\"o\">=</span><span class=\"n\">ts</span><span class=\"o\">.</span><span class=\"n\">dimensions</span><span class=\"p\">,</span> <span class=\"n\">result</span><span class=\"o\">=</span><span class=\"n\">bond_vals</span><span class=\"p\">[</span><span class=\"n\">f</span><span class=\"p\">])</span>\n",
       "        <span class=\"n\">calc_angles</span><span class=\"p\">(</span><span class=\"o\">*</span><span class=\"p\">(</span><span class=\"n\">angles</span><span class=\"p\">[</span><span class=\"n\">i</span><span class=\"p\">]</span><span class=\"o\">.</span><span class=\"n\">positions</span> <span class=\"k\">for</span> <span class=\"n\">i</span> <span class=\"ow\">in</span> <span class=\"nb\">range</span><span class=\"p\">(</span><span class=\"mi\">3</span><span class=\"p\">)),</span> <span class=\"n\">box</span><span class=\"o\">=</span><span class=\"n\">ts</span><span class=\"o\">.</span><span class=\"n\">dimensions</span><span class=\"p\">,</span> <span class=\"n\">result</span><span class=\"o\">=</span><span class=\"n\">angle_vals</span><span class=\"p\">[</span><span class=\"n\">f</span><span class=\"p\">])</span>\n",
       "        <span class=\"n\">calc_dihedrals</span><span class=\"p\">(</span><span class=\"o\">*</span><span class=\"p\">(</span><span class=\"n\">dihedrals</span><span class=\"p\">[</span><span class=\"n\">i</span><span class=\"p\">]</span><span class=\"o\">.</span><span class=\"n\">positions</span> <span class=\"k\">for</span> <span class=\"n\">i</span> <span class=\"ow\">in</span> <span class=\"nb\">range</span><span class=\"p\">(</span><span class=\"mi\">4</span><span class=\"p\">)),</span> <span class=\"n\">box</span><span class=\"o\">=</span><span class=\"n\">ts</span><span class=\"o\">.</span><span class=\"n\">dimensions</span><span class=\"p\">,</span> <span class=\"n\">result</span><span class=\"o\">=</span><span class=\"n\">dihedral_vals</span><span class=\"p\">[</span><span class=\"n\">f</span><span class=\"p\">])</span>\n",
       "\n",
       "    <span class=\"c1\"># capture perdiodicity</span>\n",
       "    <span class=\"n\">angle_vals</span> <span class=\"o\">=</span> <span class=\"mf\">0.5</span> <span class=\"o\">*</span> <span class=\"p\">(</span><span class=\"mf\">1.</span> <span class=\"o\">+</span> <span class=\"n\">np</span><span class=\"o\">.</span><span class=\"n\">cos</span><span class=\"p\">(</span><span class=\"n\">angle_vals</span><span class=\"p\">))</span>\n",
       "    <span class=\"n\">dihedrals_out</span> <span class=\"o\">=</span> <span class=\"n\">np</span><span class=\"o\">.</span><span class=\"n\">empty</span><span class=\"p\">((</span><span class=\"n\">dihedral_vals</span><span class=\"o\">.</span><span class=\"n\">shape</span><span class=\"p\">[</span><span class=\"mi\">0</span><span class=\"p\">],</span> <span class=\"n\">dihedral_vals</span><span class=\"o\">.</span><span class=\"n\">shape</span><span class=\"p\">[</span><span class=\"mi\">1</span><span class=\"p\">]</span> <span class=\"o\">*</span> <span class=\"mi\">2</span><span class=\"p\">))</span>\n",
       "    <span class=\"n\">dihedrals_out</span><span class=\"p\">[:,</span> <span class=\"p\">::</span><span class=\"mi\">2</span><span class=\"p\">]</span> <span class=\"o\">=</span> <span class=\"mf\">0.5</span> <span class=\"o\">*</span> <span class=\"p\">(</span><span class=\"mf\">1.</span> <span class=\"o\">+</span> <span class=\"n\">np</span><span class=\"o\">.</span><span class=\"n\">sin</span><span class=\"p\">(</span><span class=\"n\">dihedral_vals</span><span class=\"p\">))</span>\n",
       "    <span class=\"n\">dihedrals_out</span><span class=\"p\">[:,</span> <span class=\"mi\">1</span><span class=\"p\">::</span><span class=\"mi\">2</span><span class=\"p\">]</span> <span class=\"o\">=</span> <span class=\"mf\">0.5</span> <span class=\"o\">*</span> <span class=\"p\">(</span><span class=\"mf\">1.</span> <span class=\"o\">+</span> <span class=\"n\">np</span><span class=\"o\">.</span><span class=\"n\">cos</span><span class=\"p\">(</span><span class=\"n\">dihedral_vals</span><span class=\"p\">))</span>\n",
       "\n",
       "    <span class=\"k\">if</span> <span class=\"n\">use_SI</span><span class=\"p\">:</span>\n",
       "        <span class=\"c1\"># mdanalysis uses \\AA</span>\n",
       "        <span class=\"n\">bond_vals</span> <span class=\"o\">/=</span> <span class=\"mf\">10.</span>\n",
       "\n",
       "    <span class=\"k\">return</span> <span class=\"n\">np</span><span class=\"o\">.</span><span class=\"n\">concatenate</span><span class=\"p\">((</span><span class=\"n\">bond_vals</span><span class=\"p\">,</span> <span class=\"n\">angle_vals</span><span class=\"p\">,</span> <span class=\"n\">dihedrals_out</span><span class=\"p\">),</span> <span class=\"n\">axis</span><span class=\"o\">=</span><span class=\"mi\">1</span><span class=\"p\">)</span>\n",
       "\n",
       "\n",
       "<span class=\"k\">def</span> <span class=\"nf\">descriptor_func_psi_phi</span><span class=\"p\">(</span><span class=\"n\">traj</span><span class=\"p\">,</span> <span class=\"n\">skip</span><span class=\"o\">=</span><span class=\"mi\">1</span><span class=\"p\">):</span>\n",
       "    <span class=\"sd\">&quot;&quot;&quot;Only psi and phi angle as internal coords. Actually cos and sin for both of them.&quot;&quot;&quot;</span>\n",
       "    <span class=\"n\">u</span> <span class=\"o\">=</span> <span class=\"n\">mda</span><span class=\"o\">.</span><span class=\"n\">Universe</span><span class=\"p\">(</span><span class=\"n\">traj</span><span class=\"o\">.</span><span class=\"n\">structure_file</span><span class=\"p\">,</span> <span class=\"o\">*</span><span class=\"n\">traj</span><span class=\"o\">.</span><span class=\"n\">trajectory_files</span><span class=\"p\">,</span>\n",
       "                     <span class=\"n\">refresh_offsets</span><span class=\"o\">=</span><span class=\"kc\">True</span><span class=\"p\">,</span> <span class=\"n\">tpr_resid_from_one</span><span class=\"o\">=</span><span class=\"kc\">True</span><span class=\"p\">)</span>\n",
       "    <span class=\"n\">psi_ag</span> <span class=\"o\">=</span> <span class=\"n\">u</span><span class=\"o\">.</span><span class=\"n\">select_atoms</span><span class=\"p\">(</span><span class=\"s2\">&quot;index 6 or index 8 or index 14 or index 16&quot;</span><span class=\"p\">)</span>\n",
       "    <span class=\"n\">phi_ag</span> <span class=\"o\">=</span> <span class=\"n\">u</span><span class=\"o\">.</span><span class=\"n\">select_atoms</span><span class=\"p\">(</span><span class=\"s2\">&quot;index 4 or index 6 or index 8 or index 14&quot;</span><span class=\"p\">)</span>\n",
       "    <span class=\"c1\"># empty arrays to fill</span>\n",
       "    <span class=\"n\">phi</span> <span class=\"o\">=</span> <span class=\"n\">np</span><span class=\"o\">.</span><span class=\"n\">empty</span><span class=\"p\">((</span><span class=\"nb\">len</span><span class=\"p\">(</span><span class=\"n\">u</span><span class=\"o\">.</span><span class=\"n\">trajectory</span><span class=\"p\">[::</span><span class=\"n\">skip</span><span class=\"p\">]),</span> <span class=\"mi\">1</span><span class=\"p\">),</span> <span class=\"n\">dtype</span><span class=\"o\">=</span><span class=\"n\">np</span><span class=\"o\">.</span><span class=\"n\">float64</span><span class=\"p\">)</span>\n",
       "    <span class=\"n\">psi</span> <span class=\"o\">=</span> <span class=\"n\">np</span><span class=\"o\">.</span><span class=\"n\">empty</span><span class=\"p\">((</span><span class=\"nb\">len</span><span class=\"p\">(</span><span class=\"n\">u</span><span class=\"o\">.</span><span class=\"n\">trajectory</span><span class=\"p\">[::</span><span class=\"n\">skip</span><span class=\"p\">]),</span> <span class=\"mi\">1</span><span class=\"p\">),</span> <span class=\"n\">dtype</span><span class=\"o\">=</span><span class=\"n\">np</span><span class=\"o\">.</span><span class=\"n\">float64</span><span class=\"p\">)</span>\n",
       "    <span class=\"k\">for</span> <span class=\"n\">f</span><span class=\"p\">,</span> <span class=\"n\">ts</span> <span class=\"ow\">in</span> <span class=\"nb\">enumerate</span><span class=\"p\">(</span><span class=\"n\">u</span><span class=\"o\">.</span><span class=\"n\">trajectory</span><span class=\"p\">[::</span><span class=\"n\">skip</span><span class=\"p\">]):</span>\n",
       "        <span class=\"n\">phi</span><span class=\"p\">[</span><span class=\"n\">f</span><span class=\"p\">,</span> <span class=\"mi\">0</span><span class=\"p\">]</span> <span class=\"o\">=</span> <span class=\"n\">calc_dihedrals</span><span class=\"p\">(</span><span class=\"o\">*</span><span class=\"p\">(</span><span class=\"n\">at</span><span class=\"o\">.</span><span class=\"n\">position</span> <span class=\"k\">for</span> <span class=\"n\">at</span> <span class=\"ow\">in</span> <span class=\"n\">phi_ag</span><span class=\"p\">),</span> <span class=\"n\">box</span><span class=\"o\">=</span><span class=\"n\">ts</span><span class=\"o\">.</span><span class=\"n\">dimensions</span><span class=\"p\">)</span>\n",
       "        <span class=\"n\">psi</span><span class=\"p\">[</span><span class=\"n\">f</span><span class=\"p\">,</span> <span class=\"mi\">0</span><span class=\"p\">]</span> <span class=\"o\">=</span> <span class=\"n\">calc_dihedrals</span><span class=\"p\">(</span><span class=\"o\">*</span><span class=\"p\">(</span><span class=\"n\">at</span><span class=\"o\">.</span><span class=\"n\">position</span> <span class=\"k\">for</span> <span class=\"n\">at</span> <span class=\"ow\">in</span> <span class=\"n\">psi_ag</span><span class=\"p\">),</span> <span class=\"n\">box</span><span class=\"o\">=</span><span class=\"n\">ts</span><span class=\"o\">.</span><span class=\"n\">dimensions</span><span class=\"p\">)</span>\n",
       "\n",
       "    <span class=\"k\">return</span> <span class=\"n\">np</span><span class=\"o\">.</span><span class=\"n\">concatenate</span><span class=\"p\">((</span><span class=\"n\">psi</span><span class=\"p\">,</span> <span class=\"n\">phi</span><span class=\"p\">),</span> <span class=\"n\">axis</span><span class=\"o\">=</span><span class=\"mi\">1</span><span class=\"p\">)</span>\n",
       "    <span class=\"c1\">#return 1 + 0.5*np.concatenate([np.sin(psi), np.cos(psi), np.sin(phi), np.cos(phi)], axis=1)</span>\n",
       "\n",
       "\n",
       "<span class=\"k\">if</span> <span class=\"vm\">__name__</span> <span class=\"o\">==</span> <span class=\"s2\">&quot;__main__&quot;</span><span class=\"p\">:</span>\n",
       "    <span class=\"n\">parser</span> <span class=\"o\">=</span> <span class=\"n\">argparse</span><span class=\"o\">.</span><span class=\"n\">ArgumentParser</span><span class=\"p\">(</span>\n",
       "                <span class=\"n\">description</span><span class=\"o\">=</span><span class=\"s2\">&quot;Calculate CV values for alanine dipeptide&quot;</span><span class=\"p\">,</span>\n",
       "                                     <span class=\"p\">)</span>\n",
       "    <span class=\"n\">parser</span><span class=\"o\">.</span><span class=\"n\">add_argument</span><span class=\"p\">(</span><span class=\"s2\">&quot;structure_file&quot;</span><span class=\"p\">,</span> <span class=\"nb\">type</span><span class=\"o\">=</span><span class=\"nb\">str</span><span class=\"p\">)</span>\n",
       "    <span class=\"n\">parser</span><span class=\"o\">.</span><span class=\"n\">add_argument</span><span class=\"p\">(</span><span class=\"s2\">&quot;trajectory_files&quot;</span><span class=\"p\">,</span> <span class=\"nb\">type</span><span class=\"o\">=</span><span class=\"nb\">str</span><span class=\"p\">,</span> <span class=\"n\">nargs</span><span class=\"o\">=</span><span class=\"s2\">&quot;+&quot;</span><span class=\"p\">)</span>\n",
       "    <span class=\"n\">parser</span><span class=\"o\">.</span><span class=\"n\">add_argument</span><span class=\"p\">(</span><span class=\"s2\">&quot;output_file&quot;</span><span class=\"p\">,</span> <span class=\"nb\">type</span><span class=\"o\">=</span><span class=\"nb\">str</span><span class=\"p\">)</span>\n",
       "    <span class=\"n\">parser</span><span class=\"o\">.</span><span class=\"n\">add_argument</span><span class=\"p\">(</span><span class=\"s2\">&quot;-f&quot;</span><span class=\"p\">,</span> <span class=\"s2\">&quot;--function&quot;</span><span class=\"p\">,</span> <span class=\"nb\">type</span><span class=\"o\">=</span><span class=\"nb\">str</span><span class=\"p\">,</span>\n",
       "                        <span class=\"n\">default</span><span class=\"o\">=</span><span class=\"s2\">&quot;descriptors&quot;</span><span class=\"p\">,</span>\n",
       "                        <span class=\"n\">choices</span><span class=\"o\">=</span><span class=\"p\">[</span><span class=\"s2\">&quot;alphaR&quot;</span><span class=\"p\">,</span> <span class=\"s2\">&quot;C7eq&quot;</span><span class=\"p\">,</span> <span class=\"s2\">&quot;descriptors_ic&quot;</span><span class=\"p\">,</span> <span class=\"s2\">&quot;descriptors_psi_phi&quot;</span><span class=\"p\">])</span>\n",
       "    <span class=\"n\">parser</span><span class=\"o\">.</span><span class=\"n\">add_argument</span><span class=\"p\">(</span><span class=\"s2\">&quot;-s&quot;</span><span class=\"p\">,</span> <span class=\"s2\">&quot;--skip&quot;</span><span class=\"p\">,</span> <span class=\"nb\">type</span><span class=\"o\">=</span><span class=\"nb\">int</span><span class=\"p\">,</span> <span class=\"n\">default</span><span class=\"o\">=</span><span class=\"mi\">1</span><span class=\"p\">)</span>\n",
       "    <span class=\"n\">parser</span><span class=\"o\">.</span><span class=\"n\">add_argument</span><span class=\"p\">(</span><span class=\"s2\">&quot;-si&quot;</span><span class=\"p\">,</span> <span class=\"s2\">&quot;--use-SI&quot;</span><span class=\"p\">,</span> <span class=\"n\">dest</span><span class=\"o\">=</span><span class=\"s2\">&quot;use_SI&quot;</span><span class=\"p\">,</span> <span class=\"nb\">type</span><span class=\"o\">=</span><span class=\"nb\">bool</span><span class=\"p\">,</span> <span class=\"n\">default</span><span class=\"o\">=</span><span class=\"kc\">True</span><span class=\"p\">)</span>\n",
       "    <span class=\"n\">parser</span><span class=\"o\">.</span><span class=\"n\">add_argument</span><span class=\"p\">(</span><span class=\"s2\">&quot;-ms&quot;</span><span class=\"p\">,</span> <span class=\"s2\">&quot;--molecule-selection&quot;</span><span class=\"p\">,</span> <span class=\"n\">dest</span><span class=\"o\">=</span><span class=\"s2\">&quot;molecule_selection&quot;</span><span class=\"p\">,</span> <span class=\"nb\">type</span><span class=\"o\">=</span><span class=\"nb\">str</span><span class=\"p\">,</span> <span class=\"n\">default</span><span class=\"o\">=</span><span class=\"s2\">&quot;protein&quot;</span><span class=\"p\">,</span>\n",
       "                        <span class=\"n\">help</span><span class=\"o\">=</span><span class=\"s2\">&quot;molecule selection string for internal coordinate representation&quot;</span><span class=\"p\">)</span>\n",
       "    <span class=\"n\">args</span> <span class=\"o\">=</span> <span class=\"n\">parser</span><span class=\"o\">.</span><span class=\"n\">parse_args</span><span class=\"p\">()</span>\n",
       "    <span class=\"c1\"># NOTE: since args is a namespace args.trajectory_file will be the path to</span>\n",
       "    <span class=\"c1\">#       the trajectory file, i.e. we can pass args instead of an</span>\n",
       "    <span class=\"c1\">#       aimmd.Trajectory to the functions above</span>\n",
       "    <span class=\"k\">if</span> <span class=\"n\">args</span><span class=\"o\">.</span><span class=\"n\">function</span> <span class=\"o\">==</span> <span class=\"s2\">&quot;descriptors_ic&quot;</span><span class=\"p\">:</span>\n",
       "        <span class=\"n\">vals</span> <span class=\"o\">=</span> <span class=\"n\">descriptor_func_ic</span><span class=\"p\">(</span><span class=\"n\">args</span><span class=\"p\">,</span> <span class=\"n\">molecule_selection</span><span class=\"o\">=</span><span class=\"n\">args</span><span class=\"o\">.</span><span class=\"n\">molecule_selection</span><span class=\"p\">,</span>\n",
       "                                  <span class=\"n\">skip</span><span class=\"o\">=</span><span class=\"n\">args</span><span class=\"o\">.</span><span class=\"n\">skip</span><span class=\"p\">,</span> <span class=\"n\">use_SI</span><span class=\"o\">=</span><span class=\"n\">args</span><span class=\"o\">.</span><span class=\"n\">use_SI</span><span class=\"p\">)</span>\n",
       "    <span class=\"k\">elif</span> <span class=\"n\">args</span><span class=\"o\">.</span><span class=\"n\">function</span> <span class=\"o\">==</span> <span class=\"s2\">&quot;descriptors_psi_phi&quot;</span><span class=\"p\">:</span>\n",
       "        <span class=\"n\">vals</span> <span class=\"o\">=</span> <span class=\"n\">descriptor_func_psi_phi</span><span class=\"p\">(</span><span class=\"n\">args</span><span class=\"p\">,</span> <span class=\"n\">skip</span><span class=\"o\">=</span><span class=\"n\">args</span><span class=\"o\">.</span><span class=\"n\">skip</span><span class=\"p\">)</span>\n",
       "    <span class=\"k\">elif</span> <span class=\"n\">args</span><span class=\"o\">.</span><span class=\"n\">function</span> <span class=\"o\">==</span> <span class=\"s2\">&quot;alphaR&quot;</span><span class=\"p\">:</span>\n",
       "        <span class=\"n\">vals</span> <span class=\"o\">=</span> <span class=\"n\">alpha_R</span><span class=\"p\">(</span><span class=\"n\">args</span><span class=\"p\">,</span> <span class=\"n\">skip</span><span class=\"o\">=</span><span class=\"n\">args</span><span class=\"o\">.</span><span class=\"n\">skip</span><span class=\"p\">)</span>\n",
       "    <span class=\"k\">elif</span> <span class=\"n\">args</span><span class=\"o\">.</span><span class=\"n\">function</span> <span class=\"o\">==</span> <span class=\"s2\">&quot;C7eq&quot;</span><span class=\"p\">:</span>\n",
       "        <span class=\"n\">vals</span> <span class=\"o\">=</span> <span class=\"n\">C7_eq</span><span class=\"p\">(</span><span class=\"n\">args</span><span class=\"p\">,</span> <span class=\"n\">skip</span><span class=\"o\">=</span><span class=\"n\">args</span><span class=\"o\">.</span><span class=\"n\">skip</span><span class=\"p\">)</span>\n",
       "\n",
       "    <span class=\"n\">np</span><span class=\"o\">.</span><span class=\"n\">save</span><span class=\"p\">(</span><span class=\"n\">args</span><span class=\"o\">.</span><span class=\"n\">output_file</span><span class=\"p\">,</span> <span class=\"n\">vals</span><span class=\"p\">)</span>\n",
       "</pre></div>\n"
      ],
      "text/plain": [
       "<IPython.core.display.HTML object>"
      ]
     },
     "execution_count": 6,
     "metadata": {},
     "output_type": "execute_result"
    }
   ],
   "source": [
    "# this is just to have a look at the file content\n",
    "from pygments import highlight\n",
    "from pygments.lexers import PythonLexer\n",
    "from pygments.formatters import HtmlFormatter\n",
    "import IPython\n",
    "\n",
    "with open('../resources/ala_funcs_mda.py') as f:\n",
    "    code = f.read()\n",
    "\n",
    "formatter = HtmlFormatter()\n",
    "IPython.display.HTML('<style type=\"text/css\">{}</style>{}'.format(\n",
    "    formatter.get_style_defs('.highlight'),\n",
    "    highlight(code, PythonLexer(), formatter)))"
   ]
  },
  {
   "cell_type": "markdown",
   "metadata": {},
   "source": [
    "### Create the wrapped state functions\n",
    "As you hopefully have guessed from the code above each state functions returns one value for every frame in the trajectory, i.e. their output is expected to be of shape `(len(trajectory),)` and the values simply indicate whether each frame is to be considered part of the respective state (`True`) or not (`False`).\n",
    "\n",
    "When called via the command line the code will write out the results to `args.output_file` as numpy npz file. This is then automatically loaded by `asyncmd` and we do not have to define a custom laoding function."
   ]
  },
  {
   "cell_type": "code",
   "execution_count": 7,
   "metadata": {},
   "outputs": [],
   "source": [
    "C7_eq_wrapped = asynctraj.SlurmTrajectoryFunctionWrapper(executable=\"../resources/ala_funcs_mda.py\",\n",
    "                                                         sbatch_script=\"../resources/ala_calc_cvs_MASTER_bio.slurm\",\n",
    "                                                         call_kwargs={\"--function\": \"C7eq\",\n",
    "                                                                      \"--skip\": 1,\n",
    "                                                                      \"-si\": \"yes\",  # default anyway but to show how to pass command line flags (as opposed to options with values)\n",
    "                                                                      },\n",
    "                                                        )\n",
    "# the optional call_kwargs argument can be used to specify additional keyword arguments\n",
    "# [we pass skip=1 which does not do anything because it is the default value only to show that call_kwargs exists]\n",
    "alpha_R_wrapped = asynctraj.SlurmTrajectoryFunctionWrapper(executable=\"../resources/ala_funcs_mda.py\",\n",
    "                                                           sbatch_script=\"../resources/ala_calc_cvs_MASTER_bio.slurm\",\n",
    "                                                           call_kwargs={\"--function\": \"alphaR\",\n",
    "                                                                        \"--skip\": 1,\n",
    "                                                                        },\n",
    "                                                           )"
   ]
  },
  {
   "cell_type": "markdown",
   "metadata": {},
   "source": [
    "### Load two different configurations as `asyncmd.Trajectory`"
   ]
  },
  {
   "cell_type": "code",
   "execution_count": 8,
   "metadata": {},
   "outputs": [],
   "source": [
    "# create an asyncmd.Trajectory of the initial configuration from the `GmxEngine.ipynb` notebook\n",
    "conf_in_alphaR = asyncmd.Trajectory(trajectory_files=\"../01_engines/gromacs/gmx_infiles/capped_alanine_dipeptide/conf_in_alphaR.trr\",\n",
    "                                    structure_file=\"../01_engines/gromacs/gmx_infiles/capped_alanine_dipeptide/conf.gro\",\n",
    "                                    )\n",
    "# create a second asyncmd.Trajectory of another configuration (in another state)\n",
    "conf_in_C7eq = asyncmd.Trajectory(trajectory_files=\"../01_engines/gromacs/gmx_infiles/capped_alanine_dipeptide/conf_in_C7eq.trr\",\n",
    "                                  structure_file=\"../01_engines/gromacs/gmx_infiles/capped_alanine_dipeptide/conf.gro\",\n",
    "                                  )"
   ]
  },
  {
   "cell_type": "markdown",
   "metadata": {},
   "source": [
    "### Apply the state functions to both configurations/trajectories simultaneously\n",
    "We use `asyncio.gather` as usual to collect multiple tasks/coroutine executions and execute them all at once in the subprocesses to leverage the power of multiple cores."
   ]
  },
  {
   "cell_type": "code",
   "execution_count": 9,
   "metadata": {},
   "outputs": [
    {
     "name": "stdout",
     "output_type": "stream",
     "text": [
      "States (alphaR, C7_eq) for conf_in_alphaR: [array([ True]), array([False])].\n",
      "States (alphaR, C7_eq) for other_conf: [array([False]), array([ True])].\n",
      "The calculation took 25.1862 seconds\n"
     ]
    }
   ],
   "source": [
    "import time\n",
    "states = [alpha_R_wrapped, C7_eq_wrapped]\n",
    "\n",
    "start = time.time()\n",
    "states_for_conf_in_alphaR = await asyncio.gather(*(sf(conf_in_alphaR) for sf in states))\n",
    "states_for_conf_in_C7eq = await asyncio.gather(*(sf(conf_in_C7eq) for sf in states))\n",
    "end = time.time()\n",
    "\n",
    "print(f\"States (alphaR, C7_eq) for conf_in_alphaR: {states_for_conf_in_alphaR}.\")\n",
    "print(f\"States (alphaR, C7_eq) for other_conf: {states_for_conf_in_C7eq}.\")\n",
    "print(f\"The calculation took {round(end-start, 4)} seconds\")"
   ]
  },
  {
   "cell_type": "markdown",
   "metadata": {},
   "source": [
    "### Applying the state functions again, we can observe that the result is obtained much faster because it has been cached\n",
    "The caching applies to all wrapped functions, i.e. the return values of all wrapped functions operating on `asyncmd.Trajectory` objects are cached. This means that all (potentially costly) functions operating on a trajectory will have to be evaluated only once (the first time they are called), even if called multiple places in the code (e.g. because the order of execution was yet undetermined)."
   ]
  },
  {
   "cell_type": "code",
   "execution_count": 10,
   "metadata": {},
   "outputs": [
    {
     "name": "stdout",
     "output_type": "stream",
     "text": [
      "States (alphaR, C7_eq) for conf_in_alphaR: [array([ True]), array([False])].\n",
      "States (alphaR, C7_eq) for other_conf: [array([False]), array([ True])].\n",
      "The calculation took 0.0025 seconds\n"
     ]
    }
   ],
   "source": [
    "start = time.time()\n",
    "states_for_conf_in_alphaR = await asyncio.gather(*(sf(conf_in_alphaR) for sf in states))\n",
    "states_for_conf_in_C7eq = await asyncio.gather(*(sf(conf_in_C7eq) for sf in states))\n",
    "end = time.time()\n",
    "\n",
    "print(f\"States (alphaR, C7_eq) for conf_in_alphaR: {states_for_conf_in_alphaR}.\")\n",
    "print(f\"States (alphaR, C7_eq) for other_conf: {states_for_conf_in_C7eq}.\")\n",
    "print(f\"The calculation took {round(end-start, 4)} seconds\")"
   ]
  },
  {
   "cell_type": "markdown",
   "metadata": {},
   "source": [
    "### Plot the two configurations in the plane of $\\phi$ and $\\psi$\n",
    "We will wrap `descriptor_func_psi_phi` and plot the results."
   ]
  },
  {
   "cell_type": "code",
   "execution_count": 35,
   "metadata": {},
   "outputs": [],
   "source": [
    "psi_phi_wrapped = asynctraj.SlurmTrajectoryFunctionWrapper(executable=\"../resources/ala_funcs_mda.py\",\n",
    "                                                           sbatch_script=\"../resources/ala_calc_cvs_MASTER_bio.slurm\",\n",
    "                                                           call_kwargs={\"--function\": \"descriptors_psi_phi\",\n",
    "                                                                        \"--skip\": 1,\n",
    "                                                                        },\n",
    "                                                           )"
   ]
  },
  {
   "cell_type": "code",
   "execution_count": 12,
   "metadata": {},
   "outputs": [],
   "source": [
    "vals_in_alphaR, vals_in_C7eq = await asyncio.gather(psi_phi_wrapped(conf_in_alphaR), psi_phi_wrapped(conf_in_C7eq))"
   ]
  },
  {
   "cell_type": "code",
   "execution_count": 13,
   "metadata": {},
   "outputs": [
    {
     "data": {
      "text/plain": [
       "<matplotlib.legend.Legend at 0x7f326170f040>"
      ]
     },
     "execution_count": 13,
     "metadata": {},
     "output_type": "execute_result"
    },
    {
     "data": {
      "image/png": "[encoded data removed]",
      "text/plain": [
       "<Figure size 360x360 with 1 Axes>"
      ]
     },
     "metadata": {
      "needs_background": "light"
     },
     "output_type": "display_data"
    }
   ],
   "source": [
    "fig, axs = plt.subplots(figsize=(5,5))\n",
    "\n",
    "axs.scatter(vals_in_alphaR[:, 1], vals_in_alphaR[:, 0], label=\"$\\\\alpha_R$\")\n",
    "axs.scatter(vals_in_C7eq[:, 1], vals_in_C7eq[:, 0], label=\"$C7_{eq}$\")\n",
    "\n",
    "\n",
    "axs.set_xlim(-np.pi, np.pi)\n",
    "axs.set_ylim(-np.pi, np.pi)\n",
    "axs.set_xlabel(\"$\\phi$\", size=14)\n",
    "axs.set_ylabel(\"$\\psi$\", size=14)\n",
    "axs.tick_params(labelsize=12)\n",
    "axs.set_aspect(\"equal\")\n",
    "axs.legend(fontsize=14)"
   ]
  },
  {
   "cell_type": "code",
   "execution_count": null,
   "metadata": {},
   "outputs": [],
   "source": []
  }
 ],
 "metadata": {
  "kernelspec": {
   "display_name": "Python 3 (ipykernel)",
   "language": "python",
   "name": "python3"
  },
  "language_info": {
   "codemirror_mode": {
    "name": "ipython",
    "version": 3
   },
   "file_extension": ".py",
   "mimetype": "text/x-python",
   "name": "python",
   "nbconvert_exporter": "python",
   "pygments_lexer": "ipython3",
   "version": "3.10.3"
  }
 },
 "nbformat": 4,
 "nbformat_minor": 4
}
