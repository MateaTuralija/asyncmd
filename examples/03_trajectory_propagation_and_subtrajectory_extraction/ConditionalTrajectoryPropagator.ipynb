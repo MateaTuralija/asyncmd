{
 "cells": [
  {
   "cell_type": "markdown",
   "metadata": {},
   "source": [
    "# `asyncmd.trajectory.ConditionalTrajectoryPropagator`\n",
    "\n",
    "The `asyncmd.trajectory.ConditionalTrajectoryPropagator` can be used to easily propagate a trajectory (possibly in chunks of walltime) until any of the given conditions are fullfilled, i.e. it is one of the basic building blocks of a committor simulation and can also be used in many path sampling algorithms. Because propagating trajectories from some initial cofiguration until a state is reached is such a common condition (at least in the pathsampling community) an alias for the `asyncmd.trajectory.ConditionalTrajectoryPropagator` is `asyncmd.trajectory.TrajectoryPropagatorUntilAnyState` . However, the most general view is that you give the `asyncmd.trajectory.ConditionalTrajectoryPropagator` a list of conditions (i.e. functions which act on trajectories and return `True` or `False` for every frame) and that the trajectory propagation is stopped as soon as any of these conditions are fullfilled.\n",
    "\n",
    "In this notebook we will use the `asyncmd.trajectory.ConditionalTrajectoryPropagator` on the example of capped alanine dipeptide and propagate a trajectory from each of the conformations inside of a state until the other state is reached. We will see how to extract new initial configurations fo additional runs using the `asyncmd.trajectory.FrameExtractor`s and at the end we will also cut out a transition subtrajectory with the `TrajectoryConcatenator` class from the generated trajectories. We will run everything on the local machine (using `GmxEngine` and `PyTrajectoryFunctionWrapper`), but you could do exactly the same on a HPC cluster if you e.g. use the `SlurmGmxEngine` and `SlurmTrajectoryFunctionWrapper` classes instead.\n",
    "\n",
    "**Required knowledge/recommended reading**: This notebook assumes some familarity with the gromacs engine (see the notebooks in the `01_engines/gromacs` directory) and the TrajectoryFunctionWrappers (see notebooks `PyTrajectoryFunctionWrapper.ipynb` and/or `SlurmTrajectoryFunctionWrapper.ipynb`)."
   ]
  },
  {
   "cell_type": "markdown",
   "metadata": {},
   "source": [
    "### Imports and some basic checks that everything is available"
   ]
  },
  {
   "cell_type": "code",
   "execution_count": 1,
   "metadata": {},
   "outputs": [],
   "source": [
    "%%bash\n",
    "# if using the module system to make gromacs and friends available:\n",
    "# check that they are loaded!\n",
    "#module list"
   ]
  },
  {
   "cell_type": "code",
   "execution_count": 2,
   "metadata": {},
   "outputs": [
    {
     "name": "stdout",
     "output_type": "stream",
     "text": [
      "/usr/local/gromacs-2022.4/bin/gmx\n"
     ]
    }
   ],
   "source": [
    "%%bash\n",
    "# unix only, check that gmx is available\n",
    "which gmx"
   ]
  },
  {
   "cell_type": "code",
   "execution_count": 3,
   "metadata": {},
   "outputs": [],
   "source": [
    "%matplotlib inline"
   ]
  },
  {
   "cell_type": "code",
   "execution_count": 4,
   "metadata": {},
   "outputs": [],
   "source": [
    "import os\n",
    "import asyncio\n",
    "import matplotlib.pyplot as plt\n",
    "import numpy as np\n",
    "import MDAnalysis as mda"
   ]
  },
  {
   "cell_type": "code",
   "execution_count": 5,
   "metadata": {},
   "outputs": [
    {
     "name": "stderr",
     "output_type": "stream",
     "text": [
      "Could not initialize SLURM cluster handling. If you are sure SLURM (sinfo/sacct/etc) is available try calling `asyncmd.config.set_slurm_settings()` with the appropriate arguments.\n"
     ]
    }
   ],
   "source": [
    "import asyncmd\n",
    "from asyncmd import gromacs as asyncgmx\n",
    "from asyncmd import trajectory as asynctraj"
   ]
  },
  {
   "cell_type": "markdown",
   "metadata": {},
   "source": [
    "### Setup working directory\n",
    "We will write the trajectory output to it."
   ]
  },
  {
   "cell_type": "code",
   "execution_count": 6,
   "metadata": {},
   "outputs": [],
   "source": [
    "workdir = \"/home/think/scratch/asyncmd_scratch/\""
   ]
  },
  {
   "cell_type": "markdown",
   "metadata": {},
   "source": [
    "### Import the state functions and wrap them\n",
    "These are the state functions also used in the `PyTrajectoryFunctionWrapper` and `SlurmTrajectoryFunctionWrapper` notebooks. Here we use a `PyTrajectoryFunctionWrapper` such that you can run this notebook on your local machine, if you want to run on a cluster with SLURM you should exchange it with its slurm-enabled sibling (and also use a `SlurmGmxEngine` instead of the `GmxEngine`)."
   ]
  },
  {
   "cell_type": "code",
   "execution_count": 7,
   "metadata": {},
   "outputs": [],
   "source": [
    "cwd = os.path.abspath(os.getcwd())\n",
    "# chdir to the resources folder so we can import the state functions\n",
    "os.chdir(\"../resources/\")\n",
    "\n",
    "from ala_funcs_mda import C7_eq, alpha_R\n",
    "\n",
    "os.chdir(cwd)"
   ]
  },
  {
   "cell_type": "code",
   "execution_count": 8,
   "metadata": {},
   "outputs": [],
   "source": [
    "from asyncmd import trajectory as asynctraj"
   ]
  },
  {
   "cell_type": "code",
   "execution_count": 9,
   "metadata": {},
   "outputs": [],
   "source": [
    "C7_eq_wrapped = asynctraj.PyTrajectoryFunctionWrapper(C7_eq)\n",
    "# the optional call_kwargs argument can be used to specify additional keyword arguments\n",
    "# [we pass skip=1 which does not do anything because it is the default value only to show that call_kwargs exists]\n",
    "alpha_R_wrapped = asynctraj.PyTrajectoryFunctionWrapper(alpha_R, call_kwargs={\"skip\": 1})"
   ]
  },
  {
   "cell_type": "markdown",
   "metadata": {},
   "source": [
    "### Load two different configurations as `asyncmd.Trajectory`\n",
    "Each of them fullfills one of the two state functions."
   ]
  },
  {
   "cell_type": "code",
   "execution_count": 10,
   "metadata": {},
   "outputs": [],
   "source": [
    "# create an asyncmd.Trajectory of the initial configuration from the `GmxEngine.ipynb` notebook\n",
    "conf_in_alphaR = asyncmd.Trajectory(trajectory_files=\"../01_engines/gromacs/gmx_infiles/capped_alanine_dipeptide/conf_in_alphaR.trr\",\n",
    "                                    structure_file=\"../01_engines/gromacs/gmx_infiles/capped_alanine_dipeptide/conf.gro\",\n",
    "                                    )\n",
    "# create a second asyncmd.Trajectory of another configuration (in another state)\n",
    "conf_in_C7eq = asyncmd.Trajectory(trajectory_files=\"../01_engines/gromacs/gmx_infiles/capped_alanine_dipeptide/conf_in_C7eq.trr\",\n",
    "                                  structure_file=\"../01_engines/gromacs/gmx_infiles/capped_alanine_dipeptide/conf.gro\",\n",
    "                                  )"
   ]
  },
  {
   "cell_type": "markdown",
   "metadata": {},
   "source": [
    "### Apply the state functions to both configurations/trajectories simultaneously\n",
    "Just to check that everything is as we expect."
   ]
  },
  {
   "cell_type": "code",
   "execution_count": 11,
   "metadata": {},
   "outputs": [
    {
     "name": "stdout",
     "output_type": "stream",
     "text": [
      "States (alphaR, C7_eq) for conf_in_alphaR: [array([ True]), array([False])].\n",
      "States (alphaR, C7_eq) for other_conf: [array([False]), array([ True])].\n"
     ]
    }
   ],
   "source": [
    "states = [alpha_R_wrapped, C7_eq_wrapped]\n",
    "\n",
    "states_for_conf_in_alphaR = await asyncio.gather(*(sf(conf_in_alphaR) for sf in states))\n",
    "states_for_conf_in_C7eq = await asyncio.gather(*(sf(conf_in_C7eq) for sf in states))\n",
    "\n",
    "print(f\"States (alphaR, C7_eq) for conf_in_alphaR: {states_for_conf_in_alphaR}.\")\n",
    "print(f\"States (alphaR, C7_eq) for other_conf: {states_for_conf_in_C7eq}.\")"
   ]
  },
  {
   "cell_type": "markdown",
   "metadata": {},
   "source": [
    "### Load and potentialy modify the parameter file (mdp file) for the molecular dynamics simulations"
   ]
  },
  {
   "cell_type": "code",
   "execution_count": 12,
   "metadata": {},
   "outputs": [
    {
     "name": "stdout",
     "output_type": "stream",
     "text": [
      "C-rescale\n"
     ]
    }
   ],
   "source": [
    "# Pcoupl = C-rescale needs gromacs version >= 2021\n",
    "mdp = asyncgmx.MDP(\"../01_engines/gromacs/gmx_infiles/capped_alanine_dipeptide/md.mdp\")\n",
    "print(mdp[\"Pcoupl\"])"
   ]
  },
  {
   "cell_type": "code",
   "execution_count": 13,
   "metadata": {},
   "outputs": [],
   "source": [
    "# if your gmx version is >= 2021 you should comment the next line since C-rescale give the correct ensemble (and Berendsen doesnt!)\n",
    "#mdp[\"Pcoupl\"] = \"Berendsen\""
   ]
  },
  {
   "cell_type": "markdown",
   "metadata": {},
   "source": [
    "### Initialize the `ConditionalTrajectoryPropagator`s\n",
    "Note that since here each of the conformations is already in one of the states, we will need to setup two seperate propagators with one of the states each (for a propagator with both states both of the starting conformations already fulfill the stoping criterion \"inside any of the states\")."
   ]
  },
  {
   "cell_type": "code",
   "execution_count": 14,
   "metadata": {},
   "outputs": [],
   "source": [
    "# The walltime per trajectory part determines how often we check if the conditions are fullfilled,\n",
    "# the \"workflow\" of the ConditionalTrajectoryPropagator is the following:\n",
    "#     1.) propagate for walltime (computation possibly submitted via SLURM)\n",
    "#     2.) check if any condition is fullfilled (also possibly submitted via SLURM)\n",
    "#     3.) If no condition is fullfilled go to 1.\n",
    "\n",
    "walltime = 180 / (60 * 60)  # walltime is measured in hours, so this will be 180 s per part!\n",
    "\n",
    "# propagator towards alphaR state (will be used for conf_in_C7eq)\n",
    "propa_towards_alphaR = asynctraj.ConditionalTrajectoryPropagator(\n",
    "                                               conditions=[alpha_R_wrapped], # list of state functions to terminate on\n",
    "                                               engine_cls=asyncgmx.GmxEngine,\n",
    "                                               engine_kwargs={\"mdconfig\": mdp,\n",
    "                                                              \"gro_file\": \"../01_engines/gromacs/gmx_infiles/capped_alanine_dipeptide/conf.gro\",\n",
    "                                                              \"top_file\": \"../01_engines/gromacs/gmx_infiles/capped_alanine_dipeptide/topol_amber99sbildn.top\",\n",
    "                                                              \"mdrun_extra_args\": \"-ntomp 2\",  # for gmx sans (thread)MPI\n",
    "                                                              #\"mdrun_extra_args\": \"-nt 2\",  # for gmx with (thrad)MPI\n",
    "                                                              },\n",
    "                                               walltime_per_part=walltime,\n",
    "                                               # we could (and in production SHOULD) set an upper boundary for the total number of steps/frames\n",
    "                                               # Note that max_steps and max_frames are redundant since max_frames = max_steps / nstout\n",
    "                                               # and that max_steps takes precedence over max_frames\n",
    "                                               #max_steps=1000000000,\n",
    "                                               #max_frames=10000000,\n",
    "                                                                    )\n",
    "\n",
    "# propagator towards C7_eq state (for use with conf_in_alphaR)\n",
    "propa_towards_C7_eq = asynctraj.ConditionalTrajectoryPropagator(\n",
    "                                               conditions=[C7_eq_wrapped],\n",
    "                                               engine_cls=asyncgmx.GmxEngine,\n",
    "                                               engine_kwargs={\"mdconfig\": mdp,\n",
    "                                                              \"gro_file\": \"../01_engines/gromacs/gmx_infiles/capped_alanine_dipeptide/conf.gro\",\n",
    "                                                              \"top_file\": \"../01_engines/gromacs/gmx_infiles/capped_alanine_dipeptide/topol_amber99sbildn.top\",\n",
    "                                                              \"mdrun_extra_args\": \"-ntomp 2\",  # for gmx sans (thread)MPI\n",
    "                                                              #\"mdrun_extra_args\": \"-nt 2\",  # for gmx with (thrad)MPI\n",
    "                                                              },\n",
    "                                               walltime_per_part=walltime,\n",
    "                                                                )"
   ]
  },
  {
   "cell_type": "markdown",
   "metadata": {},
   "source": [
    "### We will use the `propagate_and_concatenate()` method which directly concatenates the generated trajectory parts into one trajectory\n",
    "This concatenated trajectory will go from the initial configuration until (including) the first frame on which any of the conditions was `True`, i.e. until the first state is reached.\n",
    "\n",
    "We could however also use the `propagate()` method to get back a list of trajectory parts as soon as the first state is reached. If we would like we could then later concatenate the list of trajecory parts using the `concatenate()` method but maybe you rather want to use it as input to another function to e.g. construct a complete transition from two lists of trajectory parts going into different states and do the concatenation only once. In this case you might find the coroutine `asyncmd.trajectory.construct_TP_from_plus_and_minus_traj_segments` useful.\n",
    "\n",
    "The bottom line is: This class is thought as building block for more complex algorithms and it is possible to call almost any of its functions independently. Have a look at the autocomplete, docstrings and the full documentation to find the methods that suit your goals/workflow the best."
   ]
  },
  {
   "cell_type": "code",
   "execution_count": 15,
   "metadata": {},
   "outputs": [],
   "source": [
    "# the `propagate_and_concatenate` method returns the tuple (traj_to_state, idx_of_first_state_reached)\n",
    "# since both propagators only have one state we can directly discard that meaningless information (the idx is going to be zero in both cases)\n",
    "# Using asyncio.gather as usual to do both MD runs in parallel\n",
    "wdir_alphaR = os.path.join(workdir, \"towards_alphaR\")\n",
    "os.mkdir(wdir_alphaR)\n",
    "wdir_C7eq = os.path.join(workdir, \"towards_C7eq\")\n",
    "os.mkdir(wdir_C7eq)\n",
    "(traj_to_alphaR, _), (traj_to_C7eq, _) = await asyncio.gather(propa_towards_alphaR.propagate_and_concatenate(\n",
    "                                                                                        starting_configuration=conf_in_C7eq,\n",
    "                                                                                        workdir=wdir_alphaR,\n",
    "                                                                                        deffnm=\"towards_alphaR\",\n",
    "                                                                                        tra_out=os.path.join(wdir_alphaR, \"traj_to_alphaR.trr\")\n",
    "                                                                                                             ),\n",
    "                                                              propa_towards_C7_eq.propagate_and_concatenate(\n",
    "                                                                                        starting_configuration=conf_in_alphaR,\n",
    "                                                                                        workdir=wdir_C7eq,\n",
    "                                                                                        deffnm=\"towards_C7_eq\",\n",
    "                                                                                        tra_out=os.path.join(wdir_C7eq, \"traj_to_C7_eq.trr\")\n",
    "                                                                                                            )\n",
    "                                                              )"
   ]
  },
  {
   "cell_type": "code",
   "execution_count": 16,
   "metadata": {},
   "outputs": [
    {
     "name": "stdout",
     "output_type": "stream",
     "text": [
      "The trajectory towards alphaR has 4475 frames, the one towards C7_eq has 2746 frames.\n"
     ]
    }
   ],
   "source": [
    "print(f\"The trajectory towards alphaR has {len(traj_to_alphaR)} frames, the one towards C7_eq has {len(traj_to_C7eq)} frames.\")"
   ]
  },
  {
   "cell_type": "markdown",
   "metadata": {},
   "source": [
    "## Extract a frame not belonging to any state from the trajectory towards ${\\alpha}_{R}$ and propagate from there\n",
    "We will use the `asyncmd.trajcetory.convert.NoModificationFrameExtractor` for that since we just want any configuration not in any of the states and do not care for its momenta. We can then use this extracted configuration for another round of conditional trajectory propagation, this time using two conditions at the same time.\n",
    "\n",
    "Note that `asyncmd` includes a range of (hopefully) useful `FrameExtractors`, e.g. the `RandomVelocitiesFrameExtractor` to extract a frame and draw random Maxwell-Boltzmann velocities for it before writing it out or the `InvertedVelocitiesFrameExtractor` which is useful for two way shooting. In case you are interested have a look at the autocomplete of the `asyncmd.trajectory.convert` module or the full API documentation."
   ]
  },
  {
   "cell_type": "code",
   "execution_count": 17,
   "metadata": {},
   "outputs": [
    {
     "name": "stdout",
     "output_type": "stream",
     "text": [
      "There are 257 frames not in any state.\n"
     ]
    }
   ],
   "source": [
    "extractor = asynctraj.convert.NoModificationFrameExtractor()  # instatiate extractor\n",
    "# find out which frames are in no state\n",
    "frame_in_no_state = np.logical_not((await alpha_R_wrapped(traj_to_alphaR)) | (await C7_eq_wrapped(traj_to_alphaR)))\n",
    "\n",
    "print(f\"There are {np.sum(frame_in_no_state)} frames not in any state.\")"
   ]
  },
  {
   "cell_type": "code",
   "execution_count": 18,
   "metadata": {},
   "outputs": [
    {
     "data": {
      "text/plain": [
       "array([   4,    8,    9,   10,   11,   12,   59,   60,   70,   71,   72,\n",
       "         73,   74,   75,   76,   77,   78,   79,   80,   81,   82,   90,\n",
       "         91,   92,   93,   94,   95,   97,   98,   99,  330,  349,  997,\n",
       "       1040, 1096, 1099, 1100, 1101, 1102, 1205, 1206, 1289, 1290, 1292,\n",
       "       1293, 1498, 1499, 1500, 1528, 1560, 1561, 1564, 1566, 1608, 1621,\n",
       "       1738, 1970, 1971, 1972, 1973, 1974, 1975, 1976, 1977, 1978, 1979,\n",
       "       1980, 1981, 1982, 1983, 1994, 1995, 1996, 1997, 2015, 2016, 2017,\n",
       "       2018, 2019, 2020, 2021, 2022, 2068, 2070, 2071, 2146, 2192, 2297,\n",
       "       2319, 2443, 2444, 2445, 2446, 2447, 2448, 2449, 2450, 2451, 2453,\n",
       "       2455, 2524, 2525, 2528, 2529, 2530, 2531, 2532, 2533, 2534, 2535,\n",
       "       2536, 2537, 2538, 2546, 2547, 2548, 2549, 2550, 2551, 2552, 2553,\n",
       "       2554, 2555, 2556, 2557, 2558, 2559, 2560, 2561, 2565, 2566, 2567,\n",
       "       2568, 2569, 2570, 2571, 2572, 2573, 2574, 2575, 2576, 2577, 2578,\n",
       "       2579, 2580, 2581, 2582, 2583, 2584, 2585, 2586, 2587, 2588, 2589,\n",
       "       2590, 2591, 2592, 2593, 2594, 2595, 2596, 2597, 2654, 2655, 2656,\n",
       "       2657, 2658, 2659, 2660, 2661, 2662, 2663, 2664, 2699, 2702, 2703,\n",
       "       2704, 2705, 2706, 2707, 2708, 2709, 2710, 2711, 2712, 2713, 2714,\n",
       "       2715, 2716, 2717, 2718, 2719, 2720, 2721, 2723, 2724, 2733, 2734,\n",
       "       2735, 3331, 3332, 3333, 3334, 3338, 3347, 3486, 3607, 3608, 3708,\n",
       "       3735, 3736, 3751, 3753, 3755, 3756, 3757, 3758, 3759, 3760, 3761,\n",
       "       3772, 3780, 3790, 3791, 3792, 3888, 4009, 4115, 4116, 4117, 4143,\n",
       "       4147, 4148, 4149, 4236, 4251, 4255, 4258, 4259, 4260, 4261, 4262,\n",
       "       4263, 4264, 4461, 4462, 4463, 4464, 4465, 4466, 4467, 4468, 4469,\n",
       "       4470, 4471, 4472, 4473])"
      ]
     },
     "execution_count": 18,
     "metadata": {},
     "output_type": "execute_result"
    }
   ],
   "source": [
    "# these are the indices of the frames not in any state\n",
    "# there should be a continous strip of indices at the end, this is a complete transition from C7_eq to alphaR\n",
    "np.where(frame_in_no_state)[0]"
   ]
  },
  {
   "cell_type": "code",
   "execution_count": 19,
   "metadata": {},
   "outputs": [],
   "source": [
    "# create a subdirectory for the new conditionalpropagator\n",
    "wdir_both_states = os.path.join(workdir, \"towards_both_states\")\n",
    "os.mkdir(wdir_both_states)\n",
    "# write out the structure\n",
    "tp_conf = extractor.extract(outfile=os.path.join(wdir_both_states, \"first_frame.trr\"),\n",
    "                            traj_in=traj_to_alphaR,\n",
    "                            idx=np.where(frame_in_no_state)[0][-10], # (probably) takes a frame from the transition\n",
    "                            )"
   ]
  },
  {
   "cell_type": "code",
   "execution_count": 23,
   "metadata": {},
   "outputs": [
    {
     "data": {
      "text/plain": [
       "Trajectory(trajectory_files=/home/think/scratch/asyncmd_scratch/towards_both_states/first_frame.trr, structure_file=/home/think/scratch/asyncmd_scratch/towards_alphaR/towards_alphaR.tpr)"
      ]
     },
     "execution_count": 23,
     "metadata": {},
     "output_type": "execute_result"
    }
   ],
   "source": [
    "tp_conf"
   ]
  },
  {
   "cell_type": "code",
   "execution_count": 21,
   "metadata": {},
   "outputs": [],
   "source": [
    "# instatiate a propagator towards any of the two states, this will finish as soon as the first is reached\n",
    "states = [alpha_R_wrapped, C7_eq_wrapped]\n",
    "propa_towards_any_state = asynctraj.ConditionalTrajectoryPropagator(\n",
    "                                                    conditions=states, # list of state functions to terminate on\n",
    "                                                    engine_cls=asyncgmx.GmxEngine,\n",
    "                                                    engine_kwargs={\"mdconfig\": mdp,\n",
    "                                                                   \"gro_file\": \"../01_engines/gromacs/gmx_infiles/capped_alanine_dipeptide/conf.gro\",\n",
    "                                                                   \"top_file\": \"../01_engines/gromacs/gmx_infiles/capped_alanine_dipeptide/topol_amber99sbildn.top\",\n",
    "                                                                   \"mdrun_extra_args\": \"-ntomp 2\",  # for gmx sans (thread)MPI\n",
    "                                                                   #\"mdrun_extra_args\": \"-nt 2\",  # for gmx with (thrad)MPI\n",
    "                                                                   },\n",
    "                                                    walltime_per_part=0.01,  # walltime of 36 s per part\n",
    "                                                                    )"
   ]
  },
  {
   "cell_type": "code",
   "execution_count": 22,
   "metadata": {},
   "outputs": [],
   "source": [
    "# and propagate, this time we care what state is reached\n",
    "traj_to_first_state, first_state_reached = await propa_towards_any_state.propagate_and_concatenate(\n",
    "                                                                                        starting_configuration=tp_conf,\n",
    "                                                                                        workdir=wdir_both_states,\n",
    "                                                                                        deffnm=\"towards_any_state\",\n",
    "                                                                                        tra_out=os.path.join(wdir_both_states, \"traj_to_state.trr\")\n",
    "                                                                                                      )"
   ]
  },
  {
   "cell_type": "markdown",
   "metadata": {},
   "source": [
    "## Extend the existing (and finished) propagation until the other state is reached.\n",
    "When we do a continuation, the propagator will first check if any of the conditions are already met on the trial and if not extend the trajectory until one of the conditions is fullfilled (or `max_steps`/`max_frames` are reached). This means that you can use the propagator with refined conditions/state functions to continue an existing trial until the new/modified conditions are met.\n",
    "\n",
    "(This example here is a bit boring as we will just wait for transition to the other state to occur)."
   ]
  },
  {
   "cell_type": "code",
   "execution_count": 24,
   "metadata": {},
   "outputs": [],
   "source": [
    "propa_towards_other_state = asynctraj.ConditionalTrajectoryPropagator(\n",
    "                                                    # take out the state we already reached from state functions list\n",
    "                                                    conditions=[s for i, s in enumerate(states) if i != first_state_reached],\n",
    "                                                    engine_cls=asyncgmx.GmxEngine,\n",
    "                                                    engine_kwargs={\"mdconfig\": mdp,\n",
    "                                                                   \"gro_file\": \"../01_engines/gromacs/gmx_infiles/capped_alanine_dipeptide/conf.gro\",\n",
    "                                                                   \"top_file\": \"../01_engines/gromacs/gmx_infiles/capped_alanine_dipeptide/topol_amber99sbildn.top\",\n",
    "                                                                   \"mdrun_extra_args\": \"-ntomp 2\",  # for gmx sans (thread)MPI\n",
    "                                                                   #\"mdrun_extra_args\": \"-nt 2\",  # for gmx with (thrad)MPI\n",
    "                                                                   },\n",
    "                                                    walltime_per_part=0.05,  # walltime of 180 s per part\n",
    "                                                                      )"
   ]
  },
  {
   "cell_type": "markdown",
   "metadata": {},
   "source": [
    "#### Here we will do a continuation of the previous run with modified conditions\n",
    "Note that we need to use the same `workdir` and `deffnm` as before to make the continuation work."
   ]
  },
  {
   "cell_type": "code",
   "execution_count": 25,
   "metadata": {},
   "outputs": [],
   "source": [
    "# and propagate until the other state is reached\n",
    "traj_to_second_state, second_state_reached = await propa_towards_other_state.propagate_and_concatenate(\n",
    "                                                                                    starting_configuration=tp_conf,\n",
    "                                                                                    # NOTE: need to use the same workdir as above,\n",
    "                                                                                    #       otherwise we can not continue\n",
    "                                                                                    workdir=wdir_both_states,\n",
    "                                                                                    deffnm=\"towards_any_state\",\n",
    "                                                                                    tra_out=os.path.join(wdir_both_states, \"traj_to_second_state.trr\"),\n",
    "                                                                                    # NOTE: this is the important keyword here!\n",
    "                                                                                    continuation=True,        \n",
    "                                                                                                    )"
   ]
  },
  {
   "cell_type": "code",
   "execution_count": 26,
   "metadata": {},
   "outputs": [
    {
     "name": "stdout",
     "output_type": "stream",
     "text": [
      "We now created two trajectories starting from Trajectory(trajectory_files=/home/think/scratch/asyncmd_scratch/towards_both_states/first_frame.trr, structure_file=/home/think/scratch/asyncmd_scratch/towards_alphaR/towards_alphaR.tpr),\n",
      "the first one going to state 0 (= PyTrajectoryFunctionWrapper(function=<function alpha_R at 0x7fc10e720c10>, call_kwargs={'skip': 1})) is a subtrajectory of the second trajectory which goes to\n",
      "state 0 (= PyTrajectoryFunctionWrapper(function=<function alpha_R at 0x7fc10e720c10>, call_kwargs={'skip': 1})).\n",
      "The first trajectory is 11 frames long, whereas the complete trajectory has 2740 frames.\n"
     ]
    }
   ],
   "source": [
    "print(f\"We now created two trajectories starting from {tp_conf},\")\n",
    "print(f\"the first one going to state {first_state_reached} (= {states[first_state_reached]}) is a subtrajectory of the second trajectory which goes to\")\n",
    "print(f\"state {second_state_reached} (= {states[second_state_reached]}).\")\n",
    "print(f\"The first trajectory is {len(traj_to_first_state)} frames long, whereas the complete trajectory has {len(traj_to_second_state)} frames.\")"
   ]
  },
  {
   "cell_type": "markdown",
   "metadata": {},
   "source": [
    "## Get the continous transition from the end of the second trajectory\n",
    "It contains a transition from the state reached in the first round to the other state."
   ]
  },
  {
   "cell_type": "code",
   "execution_count": 27,
   "metadata": {},
   "outputs": [
    {
     "name": "stdout",
     "output_type": "stream",
     "text": [
      "[ True  True  True ...  True  True False]\n"
     ]
    }
   ],
   "source": [
    "frames_in_no_state = np.logical_not((await alpha_R_wrapped(traj_to_second_state)) | (await C7_eq_wrapped(traj_to_second_state)))\n",
    "print(frames_in_no_state)"
   ]
  },
  {
   "cell_type": "markdown",
   "metadata": {},
   "source": [
    "### Use the `asyncmd.trajectory.convert.TrajectoryConcatenator` to write out the continous transition\n",
    "Here we just go 'backwards' trough the trajectory and take out the transition.\n",
    "\n",
    "However the `TrajectoryConcatenator` can do much more: It can concatenate multiple trajectory parts (taking a list for the `trajs` argument) using only a subset of the frames (as specified by the `slices` argument to the `concatenate()` method) and it can automaticaly invert the momenta for segments that are taken with a negative stride (i.e. backwards in time). Furthermore it can optionally remove double frames (i.e. frames that have the same timestep information) while doing the concatenation."
   ]
  },
  {
   "cell_type": "code",
   "execution_count": 28,
   "metadata": {},
   "outputs": [],
   "source": [
    "traj_concat = asynctraj.convert.TrajectoryConcatenator()\n",
    "\n",
    "tp_end_frame = None  # always the last one, since we stop as soon as the state is reached\n",
    "\n",
    "tp_start_frame = len(frames_in_no_state) - 2  # the last is always False\n",
    "while frames_in_no_state[tp_start_frame]:\n",
    "    tp_start_frame -= 1"
   ]
  },
  {
   "cell_type": "code",
   "execution_count": 29,
   "metadata": {},
   "outputs": [
    {
     "name": "stdout",
     "output_type": "stream",
     "text": [
      "TP start frame = 2734\n",
      "TP end frame = None\n"
     ]
    }
   ],
   "source": [
    "print(f\"TP start frame = {tp_start_frame}\")\n",
    "print(f\"TP end frame = {tp_end_frame}\")"
   ]
  },
  {
   "cell_type": "code",
   "execution_count": 30,
   "metadata": {},
   "outputs": [],
   "source": [
    "constructed_tp = traj_concat.concatenate(trajs=[traj_to_second_state],\n",
    "                                         slices=[(tp_start_frame, tp_end_frame, 1)],\n",
    "                                         tra_out=\"TP_300K_amber99sbildn.trr\",\n",
    "                                         overwrite=False)"
   ]
  },
  {
   "cell_type": "code",
   "execution_count": 31,
   "metadata": {},
   "outputs": [
    {
     "data": {
      "text/plain": [
       "Trajectory(trajectory_files=/home/think/Documents/sources/OPS/asyncmd/examples/03_conditional_propagation_and_subtrajectory_extraction/TP_300K_amber99sbildn.trr, structure_file=/home/think/scratch/asyncmd_scratch/towards_both_states/towards_any_state.tpr)"
      ]
     },
     "execution_count": 31,
     "metadata": {},
     "output_type": "execute_result"
    }
   ],
   "source": [
    "constructed_tp"
   ]
  },
  {
   "cell_type": "code",
   "execution_count": 32,
   "metadata": {},
   "outputs": [
    {
     "data": {
      "text/plain": [
       "6"
      ]
     },
     "execution_count": 32,
     "metadata": {},
     "output_type": "execute_result"
    }
   ],
   "source": [
    "len(constructed_tp)"
   ]
  },
  {
   "cell_type": "markdown",
   "metadata": {},
   "source": [
    "### Some basic sanity checks for the TP\n",
    "There should be one frame in every state, i.e. the first frame will be in alphaR and the last frame in C7eq (or vice versa depending on which state we reached first in the trajectory generation)."
   ]
  },
  {
   "cell_type": "code",
   "execution_count": 33,
   "metadata": {},
   "outputs": [
    {
     "data": {
      "text/plain": [
       "array([ True, False, False, False, False, False])"
      ]
     },
     "execution_count": 33,
     "metadata": {},
     "output_type": "execute_result"
    }
   ],
   "source": [
    "await alpha_R_wrapped(constructed_tp)"
   ]
  },
  {
   "cell_type": "code",
   "execution_count": 34,
   "metadata": {},
   "outputs": [
    {
     "data": {
      "text/plain": [
       "array([False, False, False, False, False,  True])"
      ]
     },
     "execution_count": 34,
     "metadata": {},
     "output_type": "execute_result"
    }
   ],
   "source": [
    "await C7_eq_wrapped(constructed_tp)"
   ]
  },
  {
   "cell_type": "markdown",
   "metadata": {},
   "source": [
    "### Plot the transition in the plane of $\\phi$ and $\\psi$\n",
    "Mostly for the capped alanine dipeptide afficionados, who like to see the transition in the plane of the relevant degrees of freedom :)"
   ]
  },
  {
   "cell_type": "code",
   "execution_count": 37,
   "metadata": {},
   "outputs": [],
   "source": [
    "cwd = os.path.abspath(os.getcwd())\n",
    "# chdir to the resources folder so we can import the state functions\n",
    "os.chdir(\"../resources/\")\n",
    "\n",
    "from ala_funcs_mda import descriptor_func_psi_phi\n",
    "\n",
    "os.chdir(cwd)"
   ]
  },
  {
   "cell_type": "code",
   "execution_count": 38,
   "metadata": {},
   "outputs": [],
   "source": [
    "psi_phi_wrapped = asynctraj.PyTrajectoryFunctionWrapper(descriptor_func_psi_phi)"
   ]
  },
  {
   "cell_type": "code",
   "execution_count": 39,
   "metadata": {},
   "outputs": [],
   "source": [
    "vals = await psi_phi_wrapped(constructed_tp)"
   ]
  },
  {
   "cell_type": "code",
   "execution_count": 40,
   "metadata": {},
   "outputs": [
    {
     "data": {
      "image/png": "[encoded data removed]",
      "text/plain": [
       "<Figure size 432x288 with 1 Axes>"
      ]
     },
     "metadata": {
      "needs_background": "light"
     },
     "output_type": "display_data"
    }
   ],
   "source": [
    "fig, axs = plt.subplots()\n",
    "\n",
    "axs.plot(vals[:, 1], vals[:, 0])\n",
    "\n",
    "axs.set_xlim(-np.pi, np.pi)\n",
    "axs.set_ylim(-np.pi, np.pi)\n",
    "axs.set_xlabel(\"$\\phi$\", size=14)\n",
    "axs.set_ylabel(\"$\\psi$\", size=14)\n",
    "axs.tick_params(labelsize=12)\n",
    "axs.set_aspect(\"equal\")"
   ]
  },
  {
   "cell_type": "code",
   "execution_count": null,
   "metadata": {},
   "outputs": [],
   "source": []
  }
 ],
 "metadata": {
  "kernelspec": {
   "display_name": "asyncmd dev (py3 April 2022)",
   "language": "python",
   "name": "asyncmd_dev"
  },
  "language_info": {
   "codemirror_mode": {
    "name": "ipython",
    "version": 3
   },
   "file_extension": ".py",
   "mimetype": "text/x-python",
   "name": "python",
   "nbconvert_exporter": "python",
   "pygments_lexer": "ipython3",
   "version": "3.10.4"
  }
 },
 "nbformat": 4,
 "nbformat_minor": 4
}
